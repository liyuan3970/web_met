{
 "cells": [
  {
   "cell_type": "markdown",
   "metadata": {},
   "source": [
    "# FTP下载数据"
   ]
  },
  {
   "cell_type": "code",
   "execution_count": null,
   "metadata": {},
   "outputs": [],
   "source": [
    "import os\n",
    "from ftplib import FTP\n",
    "\n",
    "# 环境 Python 3.7\n",
    "# 根据实际环境需要修改的变量：host,username,password，localpath,ftppath\n",
    "\n",
    "# 1.登录FTP服务器\n",
    "host = '192.168.131.154'\n",
    "ftp = FTP()\n",
    "ftp.connect(host, 21)\n",
    "useranme = 'test'\n",
    "password = 'test@123'\n",
    "ftp.login(useranme,password)\n",
    "\n",
    "# 2.切换到FTP服务器下载文件的路径\n",
    "ftppath = '/DOC/'\n",
    "ftp.cwd(ftppath)\n",
    "# 切换到FTP服务器的路径下\n",
    "\n",
    "# 3.获取FTP服务器切换路径下的文件名，定义为一个filebefore列表\n",
    "filebefore = ftp.nlst()\n",
    "# ftp.nlst()获取FTP服务器/DOC/路径下的文件名\n",
    "# 将获取到的文件名放在列表里面\n",
    "\n",
    "# 4.切换本地存放的路径\n",
    "localpath = 'D:\\\\Documents\\\\'\n",
    "os.chdir(localpath)\n",
    "# 切换到本地目录下\n",
    "\n",
    "# 5.判断部分文件是否存在\n",
    "fileafter = []\n",
    "# 定义一个空列表，通过获取到的文件名，判断是文件是否存在。\n",
    "# 如果不存在，将不存在的文件名添加到fileafter列表里。\n",
    "# 判断文件\n",
    "for fileone in filebefore:\n",
    "    if not os.path.exists(fileone):\n",
    "        fileafter.append(fileone)\n",
    "\n",
    "# 6.下载fileafter列表里的文件\n",
    "for filetwo in fileafter:\n",
    "    file_handle = open(filetwo, 'wb').write\n",
    "    ftp.retrbinary('RETR %s' % filetwo, file_handle, blocksize=1024)\n",
    "ftp.quit()\n",
    "\n",
    "# 7.查看本地目录下载后的文件名\n",
    "print(os.listdir())\n",
    "\n"
   ]
  },
  {
   "cell_type": "markdown",
   "metadata": {},
   "source": [
    "# 时间函数"
   ]
  },
  {
   "cell_type": "code",
   "execution_count": 33,
   "metadata": {},
   "outputs": [
    {
     "name": "stdout",
     "output_type": "stream",
     "text": [
      "2023-02-06 14:52:46 2023\n",
      "2023 02 06 14 True True\n"
     ]
    },
    {
     "data": {
      "text/plain": [
       "'2023.02/2023020600/'"
      ]
     },
     "execution_count": 33,
     "metadata": {},
     "output_type": "execute_result"
    }
   ],
   "source": [
    "import datetime\n",
    "from time import strftime\n",
    "now=datetime.datetime.now()\n",
    "\n",
    "\n",
    "year = now.strftime(\"%Y-%m-%d %H:%M:%S\")[0:4]\n",
    "print(now.strftime(\"%Y-%m-%d %H:%M:%S\"),year)\n",
    "\n",
    "\n",
    "def time_file():\n",
    "    today = datetime.datetime.now().strftime(\"%Y-%m-%d %H:%M:%S\")\n",
    "    year = today[0:4]\n",
    "    month = today[5:7]\n",
    "    day = today[8:10]\n",
    "    hour = today[11:13] \n",
    "    localfile = \"downfile\"\n",
    "    # ec数据\n",
    "    if int(hour) in [0,1,2,3,4,5,6,7,8,9,10,11,12,13,14,15,16,17,18,19,20,21,22,23,24]:\n",
    "        # 本地文件目录   \n",
    "        timefile = year + \".\"+month+\"/\"+year + month + day + \"00\" + \"/\"\n",
    "        print(year,month,day,hour,os.path.exists(localfile),os.path.isfile('test.py') )# os.path.isfile('test.txt') 保存文件数据\n",
    "    return timefile\n",
    "\n",
    "time_file()"
   ]
  },
  {
   "cell_type": "code",
   "execution_count": 1,
   "metadata": {},
   "outputs": [
    {
     "ename": "ConnectionRefusedError",
     "evalue": "[Errno 111] Connection refused",
     "output_type": "error",
     "traceback": [
      "\u001b[0;31m---------------------------------------------------------------------------\u001b[0m",
      "\u001b[0;31mConnectionRefusedError\u001b[0m                    Traceback (most recent call last)",
      "\u001b[0;32m/tmp/ipykernel_54/154122446.py\u001b[0m in \u001b[0;36m<module>\u001b[0;34m\u001b[0m\n\u001b[1;32m     70\u001b[0m     \u001b[0mdst_file_path\u001b[0m \u001b[0;34m=\u001b[0m \u001b[0;34mr\"/home/liyuan3970/Data/\"\u001b[0m  \u001b[0;31m# 本地目录\u001b[0m\u001b[0;34m\u001b[0m\u001b[0;34m\u001b[0m\u001b[0m\n\u001b[1;32m     71\u001b[0m     \u001b[0mftp\u001b[0m \u001b[0;34m=\u001b[0m \u001b[0mFTP_OP\u001b[0m\u001b[0;34m(\u001b[0m\u001b[0mhost\u001b[0m\u001b[0;34m=\u001b[0m\u001b[0mhost\u001b[0m\u001b[0;34m,\u001b[0m \u001b[0musername\u001b[0m\u001b[0;34m=\u001b[0m\u001b[0musername\u001b[0m\u001b[0;34m,\u001b[0m \u001b[0mpassword\u001b[0m\u001b[0;34m=\u001b[0m\u001b[0mpassword\u001b[0m\u001b[0;34m,\u001b[0m \u001b[0mport\u001b[0m\u001b[0;34m=\u001b[0m\u001b[0mport\u001b[0m\u001b[0;34m)\u001b[0m\u001b[0;34m\u001b[0m\u001b[0;34m\u001b[0m\u001b[0m\n\u001b[0;32m---> 72\u001b[0;31m     \u001b[0mftp\u001b[0m\u001b[0;34m.\u001b[0m\u001b[0mdownload_file\u001b[0m\u001b[0;34m(\u001b[0m\u001b[0mftp_file_path\u001b[0m\u001b[0;34m=\u001b[0m\u001b[0mftp_file_path\u001b[0m\u001b[0;34m,\u001b[0m \u001b[0mdst_file_path\u001b[0m\u001b[0;34m=\u001b[0m\u001b[0mdst_file_path\u001b[0m\u001b[0;34m)\u001b[0m\u001b[0;34m\u001b[0m\u001b[0;34m\u001b[0m\u001b[0m\n\u001b[0m",
      "\u001b[0;32m/tmp/ipykernel_54/154122446.py\u001b[0m in \u001b[0;36mdownload_file\u001b[0;34m(self, ftp_file_path, dst_file_path)\u001b[0m\n\u001b[1;32m     36\u001b[0m         \"\"\"\n\u001b[1;32m     37\u001b[0m         \u001b[0mbuffer_size\u001b[0m \u001b[0;34m=\u001b[0m \u001b[0;36m102400\u001b[0m  \u001b[0;31m# 默认是8192\u001b[0m\u001b[0;34m\u001b[0m\u001b[0;34m\u001b[0m\u001b[0m\n\u001b[0;32m---> 38\u001b[0;31m         \u001b[0mftp\u001b[0m \u001b[0;34m=\u001b[0m \u001b[0mself\u001b[0m\u001b[0;34m.\u001b[0m\u001b[0mftp_connect\u001b[0m\u001b[0;34m(\u001b[0m\u001b[0;34m)\u001b[0m\u001b[0;34m\u001b[0m\u001b[0;34m\u001b[0m\u001b[0m\n\u001b[0m\u001b[1;32m     39\u001b[0m         \u001b[0mprint\u001b[0m\u001b[0;34m(\u001b[0m\u001b[0mftp\u001b[0m\u001b[0;34m.\u001b[0m\u001b[0mgetwelcome\u001b[0m\u001b[0;34m(\u001b[0m\u001b[0;34m)\u001b[0m\u001b[0;34m)\u001b[0m  \u001b[0;31m# 显示登录ftp信息\u001b[0m\u001b[0;34m\u001b[0m\u001b[0;34m\u001b[0m\u001b[0m\n\u001b[1;32m     40\u001b[0m         \u001b[0mdir_list\u001b[0m \u001b[0;34m=\u001b[0m \u001b[0mftp\u001b[0m\u001b[0;34m.\u001b[0m\u001b[0mnlst\u001b[0m\u001b[0;34m(\u001b[0m\u001b[0mftp_file_path\u001b[0m\u001b[0;34m)\u001b[0m\u001b[0;34m\u001b[0m\u001b[0;34m\u001b[0m\u001b[0m\n",
      "\u001b[0;32m/tmp/ipykernel_54/154122446.py\u001b[0m in \u001b[0;36mftp_connect\u001b[0;34m(self)\u001b[0m\n\u001b[1;32m     23\u001b[0m         \u001b[0mftp\u001b[0m \u001b[0;34m=\u001b[0m \u001b[0mFTP\u001b[0m\u001b[0;34m(\u001b[0m\u001b[0;34m)\u001b[0m\u001b[0;34m\u001b[0m\u001b[0;34m\u001b[0m\u001b[0m\n\u001b[1;32m     24\u001b[0m         \u001b[0mftp\u001b[0m\u001b[0;34m.\u001b[0m\u001b[0mset_debuglevel\u001b[0m\u001b[0;34m(\u001b[0m\u001b[0;36m1\u001b[0m\u001b[0;34m)\u001b[0m  \u001b[0;31m# 不开启调试模式\u001b[0m\u001b[0;34m\u001b[0m\u001b[0;34m\u001b[0m\u001b[0m\n\u001b[0;32m---> 25\u001b[0;31m         \u001b[0mftp\u001b[0m\u001b[0;34m.\u001b[0m\u001b[0mconnect\u001b[0m\u001b[0;34m(\u001b[0m\u001b[0mhost\u001b[0m\u001b[0;34m=\u001b[0m\u001b[0mself\u001b[0m\u001b[0;34m.\u001b[0m\u001b[0mhost\u001b[0m\u001b[0;34m,\u001b[0m \u001b[0mport\u001b[0m\u001b[0;34m=\u001b[0m\u001b[0mself\u001b[0m\u001b[0;34m.\u001b[0m\u001b[0mport\u001b[0m\u001b[0;34m)\u001b[0m  \u001b[0;31m# 连接ftp\u001b[0m\u001b[0;34m\u001b[0m\u001b[0;34m\u001b[0m\u001b[0m\n\u001b[0m\u001b[1;32m     26\u001b[0m         \u001b[0mftp\u001b[0m\u001b[0;34m.\u001b[0m\u001b[0mlogin\u001b[0m\u001b[0;34m(\u001b[0m\u001b[0mself\u001b[0m\u001b[0;34m.\u001b[0m\u001b[0musername\u001b[0m\u001b[0;34m,\u001b[0m \u001b[0mself\u001b[0m\u001b[0;34m.\u001b[0m\u001b[0mpassword\u001b[0m\u001b[0;34m)\u001b[0m  \u001b[0;31m# 登录ftp\u001b[0m\u001b[0;34m\u001b[0m\u001b[0;34m\u001b[0m\u001b[0m\n\u001b[1;32m     27\u001b[0m         \u001b[0mftp\u001b[0m\u001b[0;34m.\u001b[0m\u001b[0mset_pasv\u001b[0m\u001b[0;34m(\u001b[0m\u001b[0;32mFalse\u001b[0m\u001b[0;34m)\u001b[0m  \u001b[0;31m# ftp有主动 被动模式 需要调整\u001b[0m\u001b[0;34m\u001b[0m\u001b[0;34m\u001b[0m\u001b[0m\n",
      "\u001b[0;32m/opt/conda/lib/python3.7/ftplib.py\u001b[0m in \u001b[0;36mconnect\u001b[0;34m(self, host, port, timeout, source_address)\u001b[0m\n\u001b[1;32m    152\u001b[0m             \u001b[0mself\u001b[0m\u001b[0;34m.\u001b[0m\u001b[0msource_address\u001b[0m \u001b[0;34m=\u001b[0m \u001b[0msource_address\u001b[0m\u001b[0;34m\u001b[0m\u001b[0;34m\u001b[0m\u001b[0m\n\u001b[1;32m    153\u001b[0m         self.sock = socket.create_connection((self.host, self.port), self.timeout,\n\u001b[0;32m--> 154\u001b[0;31m                                              source_address=self.source_address)\n\u001b[0m\u001b[1;32m    155\u001b[0m         \u001b[0mself\u001b[0m\u001b[0;34m.\u001b[0m\u001b[0maf\u001b[0m \u001b[0;34m=\u001b[0m \u001b[0mself\u001b[0m\u001b[0;34m.\u001b[0m\u001b[0msock\u001b[0m\u001b[0;34m.\u001b[0m\u001b[0mfamily\u001b[0m\u001b[0;34m\u001b[0m\u001b[0;34m\u001b[0m\u001b[0m\n\u001b[1;32m    156\u001b[0m         \u001b[0mself\u001b[0m\u001b[0;34m.\u001b[0m\u001b[0mfile\u001b[0m \u001b[0;34m=\u001b[0m \u001b[0mself\u001b[0m\u001b[0;34m.\u001b[0m\u001b[0msock\u001b[0m\u001b[0;34m.\u001b[0m\u001b[0mmakefile\u001b[0m\u001b[0;34m(\u001b[0m\u001b[0;34m'r'\u001b[0m\u001b[0;34m,\u001b[0m \u001b[0mencoding\u001b[0m\u001b[0;34m=\u001b[0m\u001b[0mself\u001b[0m\u001b[0;34m.\u001b[0m\u001b[0mencoding\u001b[0m\u001b[0;34m)\u001b[0m\u001b[0;34m\u001b[0m\u001b[0;34m\u001b[0m\u001b[0m\n",
      "\u001b[0;32m/opt/conda/lib/python3.7/socket.py\u001b[0m in \u001b[0;36mcreate_connection\u001b[0;34m(address, timeout, source_address)\u001b[0m\n\u001b[1;32m    726\u001b[0m     \u001b[0;32mif\u001b[0m \u001b[0merr\u001b[0m \u001b[0;32mis\u001b[0m \u001b[0;32mnot\u001b[0m \u001b[0;32mNone\u001b[0m\u001b[0;34m:\u001b[0m\u001b[0;34m\u001b[0m\u001b[0;34m\u001b[0m\u001b[0m\n\u001b[1;32m    727\u001b[0m         \u001b[0;32mtry\u001b[0m\u001b[0;34m:\u001b[0m\u001b[0;34m\u001b[0m\u001b[0;34m\u001b[0m\u001b[0m\n\u001b[0;32m--> 728\u001b[0;31m             \u001b[0;32mraise\u001b[0m \u001b[0merr\u001b[0m\u001b[0;34m\u001b[0m\u001b[0;34m\u001b[0m\u001b[0m\n\u001b[0m\u001b[1;32m    729\u001b[0m         \u001b[0;32mfinally\u001b[0m\u001b[0;34m:\u001b[0m\u001b[0;34m\u001b[0m\u001b[0;34m\u001b[0m\u001b[0m\n\u001b[1;32m    730\u001b[0m             \u001b[0;31m# Break explicitly a reference cycle\u001b[0m\u001b[0;34m\u001b[0m\u001b[0;34m\u001b[0m\u001b[0;34m\u001b[0m\u001b[0m\n",
      "\u001b[0;32m/opt/conda/lib/python3.7/socket.py\u001b[0m in \u001b[0;36mcreate_connection\u001b[0;34m(address, timeout, source_address)\u001b[0m\n\u001b[1;32m    714\u001b[0m             \u001b[0;32mif\u001b[0m \u001b[0msource_address\u001b[0m\u001b[0;34m:\u001b[0m\u001b[0;34m\u001b[0m\u001b[0;34m\u001b[0m\u001b[0m\n\u001b[1;32m    715\u001b[0m                 \u001b[0msock\u001b[0m\u001b[0;34m.\u001b[0m\u001b[0mbind\u001b[0m\u001b[0;34m(\u001b[0m\u001b[0msource_address\u001b[0m\u001b[0;34m)\u001b[0m\u001b[0;34m\u001b[0m\u001b[0;34m\u001b[0m\u001b[0m\n\u001b[0;32m--> 716\u001b[0;31m             \u001b[0msock\u001b[0m\u001b[0;34m.\u001b[0m\u001b[0mconnect\u001b[0m\u001b[0;34m(\u001b[0m\u001b[0msa\u001b[0m\u001b[0;34m)\u001b[0m\u001b[0;34m\u001b[0m\u001b[0;34m\u001b[0m\u001b[0m\n\u001b[0m\u001b[1;32m    717\u001b[0m             \u001b[0;31m# Break explicitly a reference cycle\u001b[0m\u001b[0;34m\u001b[0m\u001b[0;34m\u001b[0m\u001b[0;34m\u001b[0m\u001b[0m\n\u001b[1;32m    718\u001b[0m             \u001b[0merr\u001b[0m \u001b[0;34m=\u001b[0m \u001b[0;32mNone\u001b[0m\u001b[0;34m\u001b[0m\u001b[0;34m\u001b[0m\u001b[0m\n",
      "\u001b[0;31mConnectionRefusedError\u001b[0m: [Errno 111] Connection refused"
     ]
    }
   ],
   "source": [
    "from ftplib import FTP\n",
    "import os\n",
    "\n",
    "class FTP_OP(object):\n",
    "    def __init__(self, host, username, password, port):\n",
    "        \"\"\"\n",
    "        初始化ftp\n",
    "      :param host: ftp主机ip\n",
    "      :param username: ftp用户名\n",
    "      :param password: ftp密码\n",
    "      :param port: ftp端口 （默认21）\n",
    "      \"\"\"\n",
    "        self.host = host\n",
    "        self.username = username\n",
    "        self.password = password\n",
    "        self.port = port\n",
    "\n",
    "    def ftp_connect(self):\n",
    "        \"\"\"\n",
    "        连接ftp\n",
    "        :return:\n",
    "        \"\"\"\n",
    "        ftp = FTP()\n",
    "        ftp.set_debuglevel(1)  # 不开启调试模式\n",
    "        ftp.connect(host=self.host, port=self.port)  # 连接ftp\n",
    "        ftp.login(self.username, self.password)  # 登录ftp\n",
    "        ftp.set_pasv(False)  # ftp有主动 被动模式 需要调整\n",
    "        return ftp\n",
    "\n",
    "    def download_file(self, ftp_file_path, dst_file_path):\n",
    "        \"\"\"\n",
    "        从ftp下载文件到本地\n",
    "        :param ftp_file_path: ftp下载文件路径\n",
    "        :param dst_file_path: 本地存放路径\n",
    "        :return:\n",
    "        \"\"\"\n",
    "        buffer_size = 102400  # 默认是8192\n",
    "        ftp = self.ftp_connect()\n",
    "        print(ftp.getwelcome())  # 显示登录ftp信息\n",
    "        dir_list = ftp.nlst(ftp_file_path)\n",
    "        #print(\"目录----\",dir_list)\n",
    "        for dir_name in dir_list:\n",
    "            print(\"file_name: \" + dir_name)      # 日期列表\n",
    "            dir1 = dst_file_path + dir_name\n",
    "            productdir_list = ftp.nlst(dir_name)\n",
    "            for prodir in productdir_list:\n",
    "                pro_name = prodir.split('/')[-1]\n",
    "                # print(\"文件名称--\",pro_name)\n",
    "                if pro_name != 'FFT_M' and pro_name != 'RAW_M':\n",
    "                    print(\"product dir: \")      # 产品文件名目录列表\n",
    "                    dir_path = dst_file_path + prodir\n",
    "                    ftp_files = ftp.nlst(prodir)\n",
    "                    for ftp_file in ftp_files:\n",
    "                        print(\"ftp_file: \" + ftp_file)        # 文件列表\n",
    "                        write_file = dst_file_path + pro_name\n",
    "                        print(\"write_file: \" + write_file)\n",
    "                        with open(write_file, \"wb\") as f:\n",
    "                            ftp.retrbinary('RETR %s' % ftp_file, f.write, buffer_size)\n",
    "                        f.close()\n",
    "        ftp.quit()\n",
    "\n",
    "if __name__ == '__main__':\n",
    "    host = \"10.137.4.59\"\n",
    "    username = \"tzqxt\"\n",
    "    password = \"Tzqxt@2022\"\n",
    "    port = 21\n",
    "    ftp_file_path = r\"/home/data/output/fruit/nc_ecf/2023.02/2023020512/\"  # FTP目录\n",
    "    dst_file_path = r\"/home/workspace/Data/furit/download/\"  # 本地目录\n",
    "    ftp = FTP_OP(host=host, username=username, password=password, port=port)\n",
    "    ftp.download_file(ftp_file_path=ftp_file_path, dst_file_path=dst_file_path)"
   ]
  }
 ],
 "metadata": {
  "kernelspec": {
   "display_name": "Python 3 (ipykernel)",
   "language": "python",
   "name": "python3"
  },
  "language_info": {
   "codemirror_mode": {
    "name": "ipython",
    "version": 3
   },
   "file_extension": ".py",
   "mimetype": "text/x-python",
   "name": "python",
   "nbconvert_exporter": "python",
   "pygments_lexer": "ipython3",
   "version": "3.7.15"
  }
 },
 "nbformat": 4,
 "nbformat_minor": 4
}
