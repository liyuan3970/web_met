{
 "cells": [
  {
   "cell_type": "code",
   "execution_count": null,
   "metadata": {},
   "outputs": [],
   "source": []
  },
  {
   "cell_type": "code",
   "execution_count": null,
   "metadata": {},
   "outputs": [],
   "source": [
    "import os\n",
    "from ftplib import FTP\n",
    "\n",
    "# 环境 Python 3.7\n",
    "# 根据实际环境需要修改的变量：host,username,password，localpath,ftppath\n",
    "\n",
    "# 1.登录FTP服务器\n",
    "host = '192.168.131.154'\n",
    "ftp = FTP()\n",
    "ftp.connect(host, 21)\n",
    "useranme = 'test'\n",
    "password = 'test@123'\n",
    "ftp.login(useranme,password)\n",
    "\n",
    "# 2.切换到FTP服务器下载文件的路径\n",
    "ftppath = '/DOC/'\n",
    "ftp.cwd(ftppath)\n",
    "# 切换到FTP服务器的路径下\n",
    "\n",
    "# 3.获取FTP服务器切换路径下的文件名，定义为一个filebefore列表\n",
    "filebefore = ftp.nlst()\n",
    "# ftp.nlst()获取FTP服务器/DOC/路径下的文件名\n",
    "# 将获取到的文件名放在列表里面\n",
    "\n",
    "# 4.切换本地存放的路径\n",
    "localpath = 'D:\\\\Documents\\\\'\n",
    "os.chdir(localpath)\n",
    "# 切换到本地目录下\n",
    "\n",
    "# 5.判断部分文件是否存在\n",
    "fileafter = []\n",
    "# 定义一个空列表，通过获取到的文件名，判断是文件是否存在。\n",
    "# 如果不存在，将不存在的文件名添加到fileafter列表里。\n",
    "# 判断文件\n",
    "for fileone in filebefore:\n",
    "    if not os.path.exists(fileone):\n",
    "        fileafter.append(fileone)\n",
    "\n",
    "# 6.下载fileafter列表里的文件\n",
    "for filetwo in fileafter:\n",
    "    file_handle = open(filetwo, 'wb').write\n",
    "    ftp.retrbinary('RETR %s' % filetwo, file_handle, blocksize=1024)\n",
    "ftp.quit()\n",
    "\n",
    "# 7.查看本地目录下载后的文件名\n",
    "print(os.listdir())\n",
    "\n"
   ]
  }
 ],
 "metadata": {
  "kernelspec": {
   "display_name": "Python 3 (ipykernel)",
   "language": "python",
   "name": "python3"
  },
  "language_info": {
   "codemirror_mode": {
    "name": "ipython",
    "version": 3
   },
   "file_extension": ".py",
   "mimetype": "text/x-python",
   "name": "python",
   "nbconvert_exporter": "python",
   "pygments_lexer": "ipython3",
   "version": "3.7.13"
  }
 },
 "nbformat": 4,
 "nbformat_minor": 4
}
