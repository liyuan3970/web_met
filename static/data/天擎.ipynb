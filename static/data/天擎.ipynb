{
 "cells": [
  {
   "cell_type": "code",
   "execution_count": null,
   "id": "ceb7f842",
   "metadata": {},
   "outputs": [],
   "source": []
  },
  {
   "cell_type": "code",
   "execution_count": null,
   "id": "8a70f6a3",
   "metadata": {},
   "outputs": [],
   "source": [
    "db = pymysql.connect(user='root', password='mysql', database='test', host='127.0.0.1', port=3306, charset='utf8mb4')\n",
    " \n",
    "name_list = [\"re\", \"gh\", \"ds\", \"D\"]  # 存储name的值\n",
    "age_list = [\"10\", \"20\", \"30\", \"40\"]  # 存储age的值\n",
    "id_list = [\"1\", \"2\", \"3\", \"4\"]  # 存储id的值\n",
    "val_list = [[name_list[i], age_list[i], id_list[i]] for i in range(len(id_list))]\n",
    "print(val_list)\n",
    "# [['re', '10', '1'], ['gh', '20', '2'], ['ds', '30', '3'], ['D', '40', '4']]\n",
    " \n",
    "with db.cursor() as cursor:\n",
    "    try:\n",
    "        sql = \"UPDATE test SET name=(%s), age=(%s) WHERE id=(%s)\"\n",
    "        cursor.executemany(sql, val_list)\n",
    "        db.commit()\n",
    "    except:\n",
    "        db.rollback()\n",
    "db.close()"
   ]
  },
  {
   "cell_type": "code",
   "execution_count": null,
   "id": "fd71b85f",
   "metadata": {},
   "outputs": [],
   "source": [
    "#coding:utf8\n",
    "conn = MySQLdb.connect(host = “localhost”, user = “root”, passwd = “123456”, db = “myDB”)\n",
    "cursor = conn.cursor()\n",
    "sql = “insert into myTable (created_day,name,count) values(%s,%s,%s) ON DUPLICATE KEY UPDATE count=count+values(count)”\n",
    "args=[(\"2012-08-27\",\"name1\",100),(\"2012-08-27\",\"name1\",200),(\"2012-08-27\",\"name2\",300)]\n",
    "try:\n",
    "  cursor.executemany(sql, args)\n",
    "except Exception as e:\n",
    "  print0(“执行MySQL: %s 时出错：%s” % (sql, e))\n",
    "finally:\n",
    "　　cursor.close()\n",
    "　　conn.commit()\n",
    "　　conn.close()"
   ]
  },
  {
   "cell_type": "markdown",
   "id": "0f65ba85",
   "metadata": {},
   "source": [
    "# 批量插入数据\n"
   ]
  },
  {
   "cell_type": "code",
   "execution_count": 5,
   "id": "a79bc892",
   "metadata": {},
   "outputs": [
    {
     "name": "stdout",
     "output_type": "stream",
     "text": [
      "CPU times: user 0 ns, sys: 4.33 ms, total: 4.33 ms\n",
      "Wall time: 17.7 ms\n"
     ]
    }
   ],
   "source": [
    "%%time\n",
    "import pymysql\n",
    "import pymssql \n",
    "import numpy as np\n",
    "import pandas as pd\n",
    "import pickle\n",
    "import redis\n",
    "import datetime as dtt\n",
    "\n",
    "conn = pymysql.connect(host=\"127.0.0.1\",port=3306,user=\"root\",passwd=\"051219\",db=\"tzweb\")\n",
    "cursor = conn.cursor()\n",
    "sql = \"insert into station_data (station_no,station_province,station_city,station_county,station_town,station_village,station_country,station_name,lat,lon,p_total,t_max,t_min,w_max,w_dir,vis,datetime) values(%s,%s,%s,%s,%s,%s,%s,%s,%s,%s,%s,%s,%s,%s,%s,%s,%s)\"\n",
    "\n",
    "args=[\n",
    "    (\"text\",\"text\",\"text\",\"text\",\"text\",\"text\",\"text\",\"text\",15,17,25,25,25,25,25,25,'2023-07-01 20:06:31'),\n",
    "    (\"text\",\"text\",\"text\",\"text\",\"text\",\"text\",\"text\",\"text\",15,17,25,25,25,25,25,25,'2023-07-01 19:06:31')    \n",
    "]\n",
    "cursor.executemany(sql, args)\n",
    "cursor.close()\n",
    "conn.commit()\n",
    "conn.close()"
   ]
  },
  {
   "cell_type": "code",
   "execution_count": 19,
   "id": "61de4a24",
   "metadata": {},
   "outputs": [],
   "source": [
    "import pandas as pd\n",
    "start = '2015-08-01' #YYY-MM-DD\n",
    "end = '2020-07-06'\n",
    "time_list = pd.date_range(start, end, freq='H')\n",
    "times = []\n",
    "for i in range(len(time_list)):\n",
    "    single = [\"text\",\"text\",\"text\",\"text\",\"text\",\"text\",\"text\",\"text\",15,17,25,25,25,25,25,25]\n",
    "    single.append(time_list[i].strftime('%Y-%m-%d %H:%M:%S'))\n",
    "    times.append(single)"
   ]
  },
  {
   "cell_type": "markdown",
   "id": "8375306f",
   "metadata": {},
   "source": [
    "# 同步数据"
   ]
  },
  {
   "cell_type": "code",
   "execution_count": 24,
   "id": "adab00f9",
   "metadata": {},
   "outputs": [
    {
     "name": "stdout",
     "output_type": "stream",
     "text": [
      "CPU times: user 4.37 s, sys: 33.6 ms, total: 4.4 s\n",
      "Wall time: 5.82 s\n"
     ]
    }
   ],
   "source": [
    "%%time\n",
    "import pymysql\n",
    "import pymssql \n",
    "import numpy as np\n",
    "import pandas as pd\n",
    "import pickle\n",
    "import redis\n",
    "import datetime as dtt\n",
    "\n",
    "conn = pymysql.connect(host=\"127.0.0.1\",port=3306,user=\"root\",passwd=\"051219\",db=\"tzweb\")\n",
    "cursor = conn.cursor()\n",
    "sql = \"insert into station_data (station_no,station_province,station_city,station_county,station_town,station_village,station_country,station_name,lat,lon,p_total,t_max,t_min,w_max,w_dir,vis,datetime) values(%s,%s,%s,%s,%s,%s,%s,%s,%s,%s,%s,%s,%s,%s,%s,%s,%s)\"\n",
    "start = '2010-08-01' #YYY-MM-DD\n",
    "end = '2020-07-06'\n",
    "time_list = pd.date_range(start, end, freq='H')\n",
    "times = []\n",
    "for i in range(len(time_list)):\n",
    "    single = [\"text\",\"text\",\"text\",\"text\",\"text\",\"text\",\"text\",\"text\",15,17,25,25,25,25,25,25]\n",
    "    single.append(time_list[i].strftime('%Y-%m-%d %H:%M:%S'))\n",
    "    times.append(single)\n",
    "cursor.executemany(sql, times)\n",
    "cursor.close()\n",
    "conn.commit()\n",
    "conn.close()\n"
   ]
  }
 ],
 "metadata": {
  "kernelspec": {
   "display_name": "Python 3 (ipykernel)",
   "language": "python",
   "name": "python3"
  },
  "language_info": {
   "codemirror_mode": {
    "name": "ipython",
    "version": 3
   },
   "file_extension": ".py",
   "mimetype": "text/x-python",
   "name": "python",
   "nbconvert_exporter": "python",
   "pygments_lexer": "ipython3",
   "version": "3.7.15"
  }
 },
 "nbformat": 4,
 "nbformat_minor": 5
}
