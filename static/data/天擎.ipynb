{
 "cells": [
  {
   "cell_type": "code",
   "execution_count": null,
   "id": "b73967bd",
   "metadata": {},
   "outputs": [],
   "source": []
  },
  {
   "cell_type": "code",
   "execution_count": null,
   "id": "613b377a",
   "metadata": {},
   "outputs": [],
   "source": [
    "db = pymysql.connect(user='root', password='mysql', database='test', host='127.0.0.1', port=3306, charset='utf8mb4')\n",
    " \n",
    "name_list = [\"re\", \"gh\", \"ds\", \"D\"]  # 存储name的值\n",
    "age_list = [\"10\", \"20\", \"30\", \"40\"]  # 存储age的值\n",
    "id_list = [\"1\", \"2\", \"3\", \"4\"]  # 存储id的值\n",
    "val_list = [[name_list[i], age_list[i], id_list[i]] for i in range(len(id_list))]\n",
    "print(val_list)\n",
    "# [['re', '10', '1'], ['gh', '20', '2'], ['ds', '30', '3'], ['D', '40', '4']]\n",
    " \n",
    "with db.cursor() as cursor:\n",
    "    try:\n",
    "        sql = \"UPDATE test SET name=(%s), age=(%s) WHERE id=(%s)\"\n",
    "        cursor.executemany(sql, val_list)\n",
    "        db.commit()\n",
    "    except:\n",
    "        db.rollback()\n",
    "db.close()"
   ]
  },
  {
   "cell_type": "code",
   "execution_count": null,
   "id": "c45452d0",
   "metadata": {},
   "outputs": [],
   "source": [
    "#coding:utf8\n",
    "conn = MySQLdb.connect(host = “localhost”, user = “root”, passwd = “123456”, db = “myDB”)\n",
    "cursor = conn.cursor()\n",
    "sql = “insert into myTable (created_day,name,count) values(%s,%s,%s) ON DUPLICATE KEY UPDATE count=count+values(count)”\n",
    "args=[(\"2012-08-27\",\"name1\",100),(\"2012-08-27\",\"name1\",200),(\"2012-08-27\",\"name2\",300)]\n",
    "try:\n",
    "  cursor.executemany(sql, args)\n",
    "except Exception as e:\n",
    "  print0(“执行MySQL: %s 时出错：%s” % (sql, e))\n",
    "finally:\n",
    "　　cursor.close()\n",
    "　　conn.commit()\n",
    "　　conn.close()"
   ]
  },
  {
   "cell_type": "markdown",
   "id": "11a32a6d",
   "metadata": {},
   "source": [
    "# 批量插入数据\n"
   ]
  },
  {
   "cell_type": "code",
   "execution_count": 5,
   "id": "6e29539f",
   "metadata": {},
   "outputs": [
    {
     "name": "stdout",
     "output_type": "stream",
     "text": [
      "CPU times: user 0 ns, sys: 4.33 ms, total: 4.33 ms\n",
      "Wall time: 17.7 ms\n"
     ]
    }
   ],
   "source": [
    "%%time\n",
    "import pymysql\n",
    "import pymssql \n",
    "import numpy as np\n",
    "import pandas as pd\n",
    "import pickle\n",
    "import redis\n",
    "import datetime as dtt\n",
    "\n",
    "conn = pymysql.connect(host=\"127.0.0.1\",port=3306,user=\"root\",passwd=\"051219\",db=\"tzweb\")\n",
    "cursor = conn.cursor()\n",
    "sql = \"insert into station_data (station_no,station_province,station_city,station_county,station_town,station_village,station_country,station_name,lat,lon,p_total,t_max,t_min,w_max,w_dir,vis,datetime) values(%s,%s,%s,%s,%s,%s,%s,%s,%s,%s,%s,%s,%s,%s,%s,%s,%s)\"\n",
    "\n",
    "args=[\n",
    "    (\"text\",\"text\",\"text\",\"text\",\"text\",\"text\",\"text\",\"text\",15,17,25,25,25,25,25,25,'2023-07-01 20:06:31'),\n",
    "    (\"text\",\"text\",\"text\",\"text\",\"text\",\"text\",\"text\",\"text\",15,17,25,25,25,25,25,25,'2023-07-01 19:06:31')    \n",
    "]\n",
    "cursor.executemany(sql, args)\n",
    "cursor.close()\n",
    "conn.commit()\n",
    "conn.close()"
   ]
  },
  {
   "cell_type": "code",
   "execution_count": 19,
   "id": "34bf29da",
   "metadata": {},
   "outputs": [],
   "source": [
    "import pandas as pd\n",
    "start = '2015-08-01' #YYY-MM-DD\n",
    "end = '2020-07-06'\n",
    "time_list = pd.date_range(start, end, freq='H')\n",
    "times = []\n",
    "for i in range(len(time_list)):\n",
    "    single = [\"text\",\"text\",\"text\",\"text\",\"text\",\"text\",\"text\",\"text\",15,17,25,25,25,25,25,25]\n",
    "    single.append(time_list[i].strftime('%Y-%m-%d %H:%M:%S'))\n",
    "    times.append(single)"
   ]
  },
  {
   "cell_type": "markdown",
   "id": "07f28ec7",
   "metadata": {},
   "source": [
    "# 同步数据"
   ]
  },
  {
   "cell_type": "code",
   "execution_count": 24,
   "id": "569099f9",
   "metadata": {},
   "outputs": [
    {
     "name": "stdout",
     "output_type": "stream",
     "text": [
      "CPU times: user 4.37 s, sys: 33.6 ms, total: 4.4 s\n",
      "Wall time: 5.82 s\n"
     ]
    }
   ],
   "source": [
    "%%time\n",
    "import pymysql\n",
    "import pymssql \n",
    "import numpy as np\n",
    "import pandas as pd\n",
    "import pickle\n",
    "import redis\n",
    "import datetime as dtt\n",
    "\n",
    "conn = pymysql.connect(host=\"127.0.0.1\",port=3306,user=\"root\",passwd=\"051219\",db=\"tzweb\")\n",
    "cursor = conn.cursor()\n",
    "sql = \"insert into station_data (station_no,station_province,station_city,station_county,station_town,station_village,station_country,station_name,lat,lon,p_total,t_max,t_min,w_max,w_dir,vis,datetime) values(%s,%s,%s,%s,%s,%s,%s,%s,%s,%s,%s,%s,%s,%s,%s,%s,%s)\"\n",
    "start = '2010-08-01' #YYY-MM-DD\n",
    "end = '2020-07-06'\n",
    "time_list = pd.date_range(start, end, freq='H')\n",
    "times = []\n",
    "for i in range(len(time_list)):\n",
    "    single = [\"text\",\"text\",\"text\",\"text\",\"text\",\"text\",\"text\",\"text\",15,17,25,25,25,25,25,25]\n",
    "    single.append(time_list[i].strftime('%Y-%m-%d %H:%M:%S'))\n",
    "    times.append(single)\n",
    "cursor.executemany(sql, times)\n",
    "cursor.close()\n",
    "conn.commit()\n",
    "conn.close()\n"
   ]
  },
  {
   "cell_type": "code",
   "execution_count": null,
   "id": "caae584b",
   "metadata": {},
   "outputs": [],
   "source": []
  },
  {
   "cell_type": "markdown",
   "id": "09dcbeb5",
   "metadata": {},
   "source": [
    "# 同步到数据库"
   ]
  },
  {
   "cell_type": "code",
   "execution_count": null,
   "id": "05b464ac",
   "metadata": {},
   "outputs": [],
   "source": [
    "CREATE TABLE `table_station_min` (\n",
    "  `Datetime` datetime(6) NOT NULL,\n",
    "  `Station_Id_C` varchar(20) COLLATE utf8mb4_general_ci NOT NULL,\n",
    "  `Cnty` varchar(20) COLLATE utf8mb4_general_ci DEFAULT NULL,\n",
    "  `Province` varchar(20) COLLATE utf8mb4_general_ci DEFAULT NULL,\n",
    "  `Town` varchar(20) COLLATE utf8mb4_general_ci DEFAULT NULL,\n",
    "  `Station_levl` int DEFAULT NULL,\n",
    "  `Station_Name` varchar(30) COLLATE utf8mb4_general_ci DEFAULT NULL,\n",
    "  `City` varchar(20) COLLATE utf8mb4_general_ci DEFAULT NULL,\n",
    "  `Lat` decimal(8,4) DEFAULT NULL,\n",
    "  `Lon` decimal(8,4) DEFAULT NULL,\n",
    "  `Alti` decimal(10,2) DEFAULT NULL,\n",
    "  `PRS` decimal(10,2) DEFAULT NULL,\n",
    "  `PRS_Sea` decimal(10,2) DEFAULT NULL,\n",
    "  `WIN_S_Gust_Max` decimal(10,2) DEFAULT NULL,\n",
    "  `WIN_D_Gust_Max` decimal(10,2) DEFAULT NULL,\n",
    "  `WIN_D_Avg_2mi` decimal(10,2) DEFAULT NULL,\n",
    "  `WIN_S_Avg_2mi` decimal(10,2) DEFAULT NULL,\n",
    "  `TEM` decimal(10,2) DEFAULT NULL,\n",
    "  `DPT` decimal(10,2) DEFAULT NULL,\n",
    "  `RHU` decimal(10,2) DEFAULT NULL,\n",
    "  `VAP` decimal(10,2) DEFAULT NULL,\n",
    "  `PRE` decimal(10,2) DEFAULT NULL,\n",
    "  `Snow_Depth` decimal(10,2) DEFAULT NULL,\n",
    "  `VIS_HOR_1MI` decimal(10,2) DEFAULT NULL,\n",
    "  `CLO_Cov` decimal(10,2) DEFAULT NULL,\n",
    "  `CLO_Height_LoM` decimal(10,2) DEFAULT NULL,\n",
    "  PRIMARY KEY (`Datetime`,`Station_Id_C`)\n",
    ") ENGINE=InnoDB DEFAULT CHARSET=utf8mb4 COLLATE=utf8mb4_general_ci;\n"
   ]
  },
  {
   "cell_type": "markdown",
   "id": "2c387ee9",
   "metadata": {},
   "source": [
    "# 同步本地数据库"
   ]
  },
  {
   "cell_type": "code",
   "execution_count": 35,
   "id": "a31ae49d",
   "metadata": {},
   "outputs": [
    {
     "name": "stdout",
     "output_type": "stream",
     "text": [
      "CPU times: user 2.3 ms, sys: 191 µs, total: 2.49 ms\n",
      "Wall time: 1.78 ms\n"
     ]
    },
    {
     "data": {
      "text/plain": [
       "'2023-07-01 00:03:00'"
      ]
     },
     "execution_count": 35,
     "metadata": {},
     "output_type": "execute_result"
    }
   ],
   "source": [
    "%%time\n",
    "import pymysql\n",
    "import pymssql \n",
    "import numpy as np\n",
    "import pandas as pd\n",
    "import pickle\n",
    "import redis\n",
    "import datetime as dtt\n",
    "import json\n",
    "\n",
    "class data2sql():\n",
    "    def __init__(self):\n",
    "        self.rs = redis.Redis(host='127.0.0.1', port=6379)\n",
    "        self.conn = pymysql.connect(host=\"127.0.0.1\",port=3306,user=\"root\",passwd=\"051219\",db=\"ZJSZDZDB\")\n",
    "    def read_data(self):\n",
    "        data = pd.read_csv(\"downfile/min.csv\")\n",
    "        return data\n",
    "    def get_new_time(self):\n",
    "        cursor = self.conn.cursor()\n",
    "        sql = \"\"\"select max(Datetime) from table_station_min limit 1 \"\"\"\n",
    "        cursor.execute(sql)\n",
    "        results = cursor.fetchall()\n",
    "        cursor.close()\n",
    "        self.conn.commit()\n",
    "        self.conn.close()\n",
    "        if results[0][0]:\n",
    "            times = results[0][0]\n",
    "            times = times.strftime('%Y-%m-%d %H:%M')+\":00\"\n",
    "        else:\n",
    "            now = dtt.datetime.now()   \n",
    "            offset = dtt.timedelta(minutes=-3)\n",
    "            del_day = (now + offset).strftime('%Y-%m-%d %H:%M')+\":00\"\n",
    "            times = del_day\n",
    "        return times\n",
    "    def read_cloud(self):\n",
    "        pass\n",
    "    def to_mysql(self):\n",
    "        data = self.read_data()\n",
    "        data = data.drop(labels='Unnamed: 0', axis=1)\n",
    "        datalist = data.to_json(orient='values') # 生成数据列表\n",
    "        sql_list = json.loads(datalist) \n",
    "        cursor = self.conn.cursor()\n",
    "        sql = \"\"\"insert into table_station_min \n",
    "        (Cnty,Province,Town,Station_levl,Station_Name,City,Station_Id_C,Lat,Lon,Alti,Datetime,PRS,PRS_Sea,WIN_S_Gust_Max,WIN_D_Gust_Max,WIN_D_Avg_2mi,WIN_S_Avg_2mi,TEM,DPT,RHU,VAP,PRE,Snow_Depth,VIS_HOR_1MI,CLO_Cov,CLO_Height_LoM) \n",
    "        values(%s,%s,%s,%s,%s,%s,%s,%s,%s,%s,%s,%s,%s,%s,%s,%s,%s,%s,%s,%s,%s,%s,%s,%s,%s,%s)\"\"\"\n",
    "        cursor.executemany(sql,sql_list)\n",
    "        cursor.close()\n",
    "        self.conn.commit()\n",
    "        self.conn.close()\n",
    "    def del_mysql(self):\n",
    "        now = dtt.datetime.now()   \n",
    "        offset = dtt.timedelta(days=-3)\n",
    "        del_day = (now + offset).strftime('%Y-%m-%d %H:%M')+\":00\"\n",
    "        cursor = self.conn.cursor()\n",
    "        sql = \"\"\"DELETE FROM table_station_min where Datetime <= '{del_day}'\"\"\"\n",
    "        rsql = sql.format(del_day=del_day)\n",
    "        cursor.execute(rsql)\n",
    "        cursor.close()\n",
    "        self.conn.commit()\n",
    "        self.conn.close()\n",
    "        print(\"done\",del_day)\n",
    "        \n",
    "\n",
    "worker = data2sql()\n",
    "#worker.to_mysql()#\n",
    "worker.get_new_time()"
   ]
  },
  {
   "cell_type": "code",
   "execution_count": null,
   "id": "6428a080",
   "metadata": {},
   "outputs": [],
   "source": []
  }
 ],
 "metadata": {
  "kernelspec": {
   "display_name": "Python 3 (ipykernel)",
   "language": "python",
   "name": "python3"
  },
  "language_info": {
   "codemirror_mode": {
    "name": "ipython",
    "version": 3
   },
   "file_extension": ".py",
   "mimetype": "text/x-python",
   "name": "python",
   "nbconvert_exporter": "python",
   "pygments_lexer": "ipython3",
   "version": "3.7.15"
  }
 },
 "nbformat": 4,
 "nbformat_minor": 5
}
