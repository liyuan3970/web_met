{
 "cells": [
  {
   "cell_type": "markdown",
   "metadata": {},
   "source": [
    "# 数据库连接"
   ]
  },
  {
   "cell_type": "code",
   "execution_count": 4,
   "metadata": {},
   "outputs": [],
   "source": [
    "# redis 数据读取和获取\n",
    "import redis\n",
    "host = '192.168.192.5' # redis服务地址\n",
    "port = 6379  # redis服务端口\n",
    "# 连接数据库\n",
    "r = redis.StrictRedis(host=host,port=port, password=\"lq9394\",db=1)\n",
    "\n"
   ]
  },
  {
   "cell_type": "code",
   "execution_count": 6,
   "metadata": {},
   "outputs": [
    {
     "data": {
      "text/plain": [
       "[b'data']"
      ]
     },
     "execution_count": 6,
     "metadata": {},
     "output_type": "execute_result"
    }
   ],
   "source": [
    "# 设置一个字段\n",
    "\n",
    "name = \"data\"\n",
    "value = 1\n",
    "\n",
    "# ex - 过期时间（秒）\n",
    "# px - 过期时间（毫秒）\n",
    "# nx - 如果设置为True，则只有name不存在时，当前set操作才执行\n",
    "# xx - 如果设置为True，则只有name存在时，当前set操作才执行\n",
    "\n",
    "r.set(name, value, ex=None, px=None, nx=False, xx=False)\n",
    "\n",
    "# 获取键值\n",
    "key = r.keys()\n",
    "key\n",
    "\n",
    "# 获取数据\n",
    "r.get(\"data\")\n"
   ]
  },
  {
   "cell_type": "code",
   "execution_count": 8,
   "metadata": {},
   "outputs": [
    {
     "name": "stdout",
     "output_type": "stream",
     "text": [
      "[b'v1', b'v2']\n",
      "<class 'list'>\n"
     ]
    }
   ],
   "source": [
    "# 批量设置一个值\n",
    "r.mset({'k1': 'v1', 'k2': 'v2'})\n",
    "print(r.mget(\"k1\", \"k2\")) \n",
    "print(type(r.mget(\"k1\", \"k2\")))"
   ]
  },
  {
   "cell_type": "code",
   "execution_count": 9,
   "metadata": {},
   "outputs": [
    {
     "data": {
      "text/plain": [
       "b'1'"
      ]
     },
     "execution_count": 9,
     "metadata": {},
     "output_type": "execute_result"
    }
   ],
   "source": [
    "# 获取数据\n",
    "r.get(\"data\")"
   ]
  },
  {
   "cell_type": "code",
   "execution_count": 11,
   "metadata": {},
   "outputs": [
    {
     "data": {
      "text/plain": [
       "b'1111'"
      ]
     },
     "execution_count": 11,
     "metadata": {},
     "output_type": "execute_result"
    }
   ],
   "source": [
    "# 覆盖数据\n",
    "r.mset({'k1': '1111', 'k2': '2222'})\n",
    "r.get(\"k1\")"
   ]
  },
  {
   "cell_type": "code",
   "execution_count": 12,
   "metadata": {},
   "outputs": [
    {
     "name": "stdout",
     "output_type": "stream",
     "text": [
      "向list1中从左边依次添加 11 22 33\n",
      "list1的值为：[b'33', b'22', b'11']\n",
      "向list1中从右边依次添加 44 55\n",
      "list1的值为：[b'33', b'22', b'11', b'44', b'55']\n",
      "list1的长度为：5\n"
     ]
    }
   ],
   "source": [
    "# 增加一个或多个元素，没有就新建\n",
    "\n",
    "import redis\n",
    "import time\n",
    "\n",
    "\n",
    "\n",
    "r.delete('list1') # 删除键 list1\n",
    "\n",
    "print(\"向list1中从左边依次添加 11 22 33\")\n",
    "r.lpush('list1',11,22,33)\n",
    "print(\"list1的值为：{}\".format(r.lrange('list1',0,2)))\n",
    "\n",
    "print(\"向list1中从右边依次添加 44 55\")\n",
    "r.rpush('list1',44,55)\n",
    "print(\"list1的值为：{}\".format(r.lrange('list1',0,4)))\n",
    "\n",
    "print('list1的长度为：{}'.format(r.llen('list1')))\n"
   ]
  },
  {
   "cell_type": "code",
   "execution_count": null,
   "metadata": {},
   "outputs": [],
   "source": []
  }
 ],
 "metadata": {
  "interpreter": {
   "hash": "0c60814a34b1de8e9916497fa254bba583838094421e986a56c7f9e13e41d916"
  },
  "kernelspec": {
   "display_name": "Python 3.9.12 ('base')",
   "language": "python",
   "name": "python3"
  },
  "language_info": {
   "codemirror_mode": {
    "name": "ipython",
    "version": 3
   },
   "file_extension": ".py",
   "mimetype": "text/x-python",
   "name": "python",
   "nbconvert_exporter": "python",
   "pygments_lexer": "ipython3",
   "version": "3.9.12"
  },
  "orig_nbformat": 4
 },
 "nbformat": 4,
 "nbformat_minor": 2
}
