{
 "cells": [
  {
   "cell_type": "markdown",
   "id": "f9d3266a",
   "metadata": {},
   "source": [
    "# 雷达数据"
   ]
  },
  {
   "cell_type": "markdown",
   "id": "d13929b5",
   "metadata": {},
   "source": [
    "## 雷达数据的绘制和上传redis\n",
    "\n",
    "\n"
   ]
  },
  {
   "cell_type": "code",
   "execution_count": 1,
   "id": "1c45b7d2",
   "metadata": {},
   "outputs": [
    {
     "name": "stderr",
     "output_type": "stream",
     "text": [
      "/opt/conda/lib/python3.7/site-packages/pandas/compat/_optional.py:138: UserWarning: Pandas requires version '2.7.0' or newer of 'numexpr' (version '2.6.9' currently installed).\n",
      "  warnings.warn(msg, UserWarning)\n",
      "/opt/conda/lib/python3.7/site-packages/cinrad/io/level2.py:355: UserWarning: Requested data range exceed max range in this tilt\n",
      "  warnings.warn(\"Requested data range exceed max range in this tilt\")\n"
     ]
    },
    {
     "name": "stdout",
     "output_type": "stream",
     "text": [
      "----------- [[-- -- -- ... -- -- --]\n",
      " [-- -- -- ... -- -- --]\n",
      " [-- -- -- ... -- -- --]\n",
      " ...\n",
      " [-- -- -- ... -- -- --]\n",
      " [-- -- -- ... -- -- --]\n",
      " [-- -- -- ... -- -- --]]\n",
      "CPU times: user 26.5 s, sys: 1.17 s, total: 27.7 s\n",
      "Wall time: 3.46 s\n"
     ]
    }
   ],
   "source": [
    "%%time\n",
    "%matplotlib inline\n",
    "import pymysql\n",
    "import pymssql \n",
    "import numpy as np\n",
    "import pandas as pd\n",
    "import pickle\n",
    "import redis\n",
    "import datetime as dtt\n",
    "import cinrad\n",
    "import matplotlib.pyplot as plt\n",
    "from matplotlib.colors import ListedColormap,LinearSegmentedColormap\n",
    "from cartopy.mpl.geoaxes import GeoAxes\n",
    "import cartopy.crs as ccrs\n",
    "from cartopy.feature import ShapelyFeature\n",
    "from cartopy.io.shapereader import Reader\n",
    "from matplotlib import cm, colors\n",
    "import matplotlib.gridspec as gridspec\n",
    "from mpl_toolkits.basemap import Basemap\n",
    "from ncmaps import Cmaps\n",
    "from io import BytesIO\n",
    "import base64\n",
    "import json\n",
    "class nlcmap(LinearSegmentedColormap):\n",
    "    \"\"\"A nonlinear colormap\"\"\"\n",
    "\n",
    "    name = 'nlcmap'\n",
    "\n",
    "    def __init__(self, cmap, levels):\n",
    "        self.cmap = cmap\n",
    "        self.monochrome = self.cmap.monochrome\n",
    "        self.levels = np.asarray(levels, dtype='float64')\n",
    "        self._x = self.levels/ self.levels.max()\n",
    "        self.levmax = self.levels.max()\n",
    "        self.levmin = self.levels.min()\n",
    "        self._y = np.linspace(self.levmin, self.levmax, len(self.levels))\n",
    "\n",
    "    def __call__(self, xi, alpha=1.0, **kw):\n",
    "        yi = np.interp(xi, self._x, self._y)\n",
    "        return self.cmap(yi/self.levmax, alpha)\n",
    "class radar_data:\n",
    "    def __init__(self):\n",
    "        self.rs = redis.Redis(host='127.0.0.1', port=6379)\n",
    "    def to_redis(self,imd):\n",
    "        if self.rs.get(\"radar\"):\n",
    "            data = pickle.loads(self.rs.get(\"radar\"))\n",
    "            data['imglist'].append(imd)\n",
    "        else:\n",
    "            imglist = [imd]\n",
    "            data = {\n",
    "                \"imglist\":imglist\n",
    "            }\n",
    "        self.rs.set(\"radar\", pickle.dumps(data))       \n",
    "    def plot_data(self):\n",
    "        path =\"/home/workspace/Data/My_Git/web_met/static/data/downfile/\" \n",
    "        f = cinrad.io.CinradReader(path+'Z_RADR_I_Z9576_20150809120400_O_DOR_SA_CAP.bin.bz2')\n",
    "        tilt_number = 0\n",
    "        data_radius = 230\n",
    "        data_dtype = 'REF' # stands for reflectivity\n",
    "        # 数据加载核心\n",
    "        ra = f.get_data(tilt_number, data_radius, data_dtype)\n",
    "        rl = list(f.iter_tilt(230, 'REF'))\n",
    "        cr = cinrad.easycalc.quick_cr(rl)\n",
    "        data = ra.data\n",
    "        m = Basemap(llcrnrlon=119.16,llcrnrlat=26.55,urcrnrlon=123.88,urcrnrlat=30.69)\n",
    "        ## 颜色 ------\n",
    "        colorslist = ['#00C800','#019000','#FFFF00','#E7C000','#FF9000','#D60000','#C00000','#FF00F0','#780084','#AD90F0','#AE0AF5']# 组合反射率\n",
    "        levels1 = [15,20,25,30,35,40,45,50,55,60,65,70]\n",
    "        cmaps = LinearSegmentedColormap.from_list('mylist',colorslist,N=11)\n",
    "        print(\"-----------\",cr.data)\n",
    "        plt.contourf(cr.lon, cr.lat, cr.data,cmap=cmaps,levels = levels1)\n",
    "        plt.axis('off') \n",
    "        buffer = BytesIO()\n",
    "        plt.savefig(buffer,bbox_inches='tight',transparent=True)  \n",
    "        plot_img = buffer.getvalue()\n",
    "        imb = base64.b64encode(plot_img) \n",
    "        ims = imb.decode()\n",
    "        imd = \"data:image/png;base64,\"+ims\n",
    "        self.to_redis(imd)\n",
    "    def get_radar(self):\n",
    "        data = pickle.loads(self.rs.get(\"radar\"))\n",
    "        return data\n",
    "\n",
    "worker = radar_data()\n",
    "worker.plot_data()\n",
    "#data = worker.get_radar()"
   ]
  },
  {
   "cell_type": "code",
   "execution_count": 6,
   "id": "e475545a",
   "metadata": {},
   "outputs": [],
   "source": [
    "data = worker.get_radar()"
   ]
  },
  {
   "cell_type": "code",
   "execution_count": 7,
   "id": "ded984f9",
   "metadata": {},
   "outputs": [
    {
     "data": {
      "text/plain": [
       "12"
      ]
     },
     "execution_count": 7,
     "metadata": {},
     "output_type": "execute_result"
    }
   ],
   "source": [
    "len(data['imglist'])"
   ]
  }
 ],
 "metadata": {
  "kernelspec": {
   "display_name": "Python 3 (ipykernel)",
   "language": "python",
   "name": "python3"
  },
  "language_info": {
   "codemirror_mode": {
    "name": "ipython",
    "version": 3
   },
   "file_extension": ".py",
   "mimetype": "text/x-python",
   "name": "python",
   "nbconvert_exporter": "python",
   "pygments_lexer": "ipython3",
   "version": "3.7.15"
  }
 },
 "nbformat": 4,
 "nbformat_minor": 5
}
