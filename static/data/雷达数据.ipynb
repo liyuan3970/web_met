{
 "cells": [
  {
   "cell_type": "markdown",
   "id": "8d147641",
   "metadata": {},
   "source": [
    "# 雷达数据"
   ]
  },
  {
   "cell_type": "markdown",
   "id": "fa59a7ea",
   "metadata": {},
   "source": [
    "## 雷达数据的绘制和上传redis\n",
    "\n",
    "\n"
   ]
  },
  {
   "cell_type": "code",
   "execution_count": 7,
   "id": "fbb8cd55",
   "metadata": {},
   "outputs": [
    {
     "name": "stdout",
     "output_type": "stream",
     "text": [
      "CPU times: user 23.8 s, sys: 366 ms, total: 24.1 s\n",
      "Wall time: 3.05 s\n"
     ]
    },
    {
     "data": {
      "image/png": "[encoded data removed]",
      "text/plain": [
       "<Figure size 640x480 with 1 Axes>"
      ]
     },
     "metadata": {},
     "output_type": "display_data"
    }
   ],
   "source": [
    "%%time\n",
    "%matplotlib inline\n",
    "import pymysql\n",
    "import pymssql \n",
    "import numpy as np\n",
    "import pandas as pd\n",
    "import pickle\n",
    "import redis\n",
    "import datetime as dtt\n",
    "import cinrad\n",
    "import matplotlib.pyplot as plt\n",
    "from matplotlib.colors import ListedColormap,LinearSegmentedColormap\n",
    "from cartopy.mpl.geoaxes import GeoAxes\n",
    "import cartopy.crs as ccrs\n",
    "from cartopy.feature import ShapelyFeature\n",
    "from cartopy.io.shapereader import Reader\n",
    "from matplotlib import cm, colors\n",
    "import matplotlib.gridspec as gridspec\n",
    "from mpl_toolkits.basemap import Basemap\n",
    "from ncmaps import Cmaps\n",
    "from io import BytesIO\n",
    "import base64\n",
    "import json\n",
    "class nlcmap(LinearSegmentedColormap):\n",
    "    \"\"\"A nonlinear colormap\"\"\"\n",
    "\n",
    "    name = 'nlcmap'\n",
    "\n",
    "    def __init__(self, cmap, levels):\n",
    "        self.cmap = cmap\n",
    "        self.monochrome = self.cmap.monochrome\n",
    "        self.levels = np.asarray(levels, dtype='float64')\n",
    "        self._x = self.levels/ self.levels.max()\n",
    "        self.levmax = self.levels.max()\n",
    "        self.levmin = self.levels.min()\n",
    "        self._y = np.linspace(self.levmin, self.levmax, len(self.levels))\n",
    "\n",
    "    def __call__(self, xi, alpha=1.0, **kw):\n",
    "        yi = np.interp(xi, self._x, self._y)\n",
    "        return self.cmap(yi/self.levmax, alpha)\n",
    "    \n",
    "class radar_data:\n",
    "    def __init__(self):\n",
    "        self.rs = redis.Redis(host='127.0.0.1', port=6379)\n",
    "    def to_redis(self,imd):\n",
    "        if self.rs.get(\"radar\"):\n",
    "            data = pickle.loads(self.rs.get(\"radar\"))  \n",
    "            radar_len = len(data['imglist'])\n",
    "            if radar_len>10:\n",
    "                data['imglist'] = data['imglist'][-9:]\n",
    "                data['imglist'].append(imd)\n",
    "            else:\n",
    "                data['imglist'].append(imd)\n",
    "        else:\n",
    "            imglist = [imd]\n",
    "            data = {\n",
    "                \"imglist\":imglist\n",
    "            }\n",
    "        self.rs.set(\"radar\", pickle.dumps(data))       \n",
    "    def plot_data(self):\n",
    "#         path =\"/home/workspace/Data/My_Git/web_met/static/data/downfile/\" \n",
    "#         f = cinrad.io.CinradReader(path+'Z_RADR_I_Z9576_20150809120400_O_DOR_SA_CAP.bin.bz2')\n",
    "        path =\"/home/workspace/Data/My_Git/web_met/static/data/downfile/\" \n",
    "        f = cinrad.io.StandardData(path+'Z_RADR_I_Z9576_20230702105550_O_DOR_SAD_CAP_FMT.bin.bz2')\n",
    "        tilt_number = 0\n",
    "        data_radius = 230\n",
    "        data_dtype = 'REF' # stands for reflectivity\n",
    "        # 数据加载核心\n",
    "        ra = f.get_data(tilt_number, data_radius, data_dtype)\n",
    "        rl = list(f.iter_tilt(230, 'REF'))\n",
    "        cr = cinrad.easycalc.quick_cr(rl)\n",
    "        data = ra.data\n",
    "        m = Basemap(llcrnrlon=119.16,llcrnrlat=26.55,urcrnrlon=123.88,urcrnrlat=30.69)\n",
    "        ## 颜色 ------\n",
    "        colorslist = ['#00C800','#019000','#FFFF00','#E7C000','#FF9000','#D60000','#C00000','#FF00F0','#780084','#AD90F0','#AE0AF5']# 组合反射率\n",
    "        levels1 = [15,20,25,30,35,40,45,50,55,60,65,70]\n",
    "        cmaps = LinearSegmentedColormap.from_list('mylist',colorslist,N=11)\n",
    "        plt.contourf(cr.lon, cr.lat, cr.data,cmap=cmaps,levels = levels1)\n",
    "        plt.axis('off') \n",
    "        buffer = BytesIO()\n",
    "        plt.savefig(buffer,bbox_inches='tight',transparent=True)  \n",
    "        plot_img = buffer.getvalue()\n",
    "        imb = base64.b64encode(plot_img) \n",
    "        ims = imb.decode()\n",
    "        imd = \"data:image/png;base64,\"+ims\n",
    "        self.to_redis(imd)\n",
    "    def get_radar(self):\n",
    "        data = pickle.loads(self.rs.get(\"radar\"))\n",
    "        return data\n",
    "\n",
    "worker = radar_data()\n",
    "worker.plot_data()\n",
    "#data = worker.get_radar()"
   ]
  },
  {
   "cell_type": "code",
   "execution_count": 3,
   "id": "d079d3a1",
   "metadata": {},
   "outputs": [],
   "source": [
    "a = [1,2,3,4,5,6,7,8,9,10,11,12]"
   ]
  },
  {
   "cell_type": "code",
   "execution_count": 6,
   "id": "be07ab88",
   "metadata": {},
   "outputs": [
    {
     "data": {
      "text/plain": [
       "[3, 4, 5, 6, 7, 8, 9, 10, 11, 12]"
      ]
     },
     "execution_count": 6,
     "metadata": {},
     "output_type": "execute_result"
    }
   ],
   "source": [
    "a[-10:]"
   ]
  }
 ],
 "metadata": {
  "kernelspec": {
   "display_name": "Python 3 (ipykernel)",
   "language": "python",
   "name": "python3"
  },
  "language_info": {
   "codemirror_mode": {
    "name": "ipython",
    "version": 3
   },
   "file_extension": ".py",
   "mimetype": "text/x-python",
   "name": "python",
   "nbconvert_exporter": "python",
   "pygments_lexer": "ipython3",
   "version": "3.7.15"
  }
 },
 "nbformat": 4,
 "nbformat_minor": 5
}
