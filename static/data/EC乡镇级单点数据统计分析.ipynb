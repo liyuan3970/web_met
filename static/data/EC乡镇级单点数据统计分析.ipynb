{
 "cells": [
  {
   "cell_type": "code",
   "execution_count": null,
   "metadata": {},
   "outputs": [],
   "source": [
    "# 这是一个用来得到ec的精细话数据的脚本"
   ]
  },
  {
   "cell_type": "markdown",
   "metadata": {},
   "source": [
    "# 数据类型\n",
    "1. vis \n",
    "2. uv_10\n",
    "3. tmax\n",
    "4. tmin\n",
    "5. tcc \n",
    "6. t2\n",
    "7. skt\n",
    "8. lsp(大尺度降水)\n",
    "9. conv(对流降水)\n"
   ]
  },
  {
   "cell_type": "code",
   "execution_count": null,
   "metadata": {},
   "outputs": [],
   "source": [
    "class ec_data_point:\n",
    "    def __init__(self, plot_type,plot_time):\n",
    "        pass\n",
    "    def read_data():\n",
    "        pass\n",
    "    def render_tojson():\n",
    "        pass\n",
    "        \n",
    "    "
   ]
  }
 ],
 "metadata": {
  "kernelspec": {
   "display_name": "Python 3",
   "language": "python",
   "name": "python3"
  },
  "language_info": {
   "codemirror_mode": {
    "name": "ipython",
    "version": 3
   },
   "file_extension": ".py",
   "mimetype": "text/x-python",
   "name": "python",
   "nbconvert_exporter": "python",
   "pygments_lexer": "ipython3",
   "version": "3.7.6"
  }
 },
 "nbformat": 4,
 "nbformat_minor": 4
}
