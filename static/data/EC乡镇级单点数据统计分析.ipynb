{
 "cells": [
  {
   "cell_type": "code",
   "execution_count": null,
   "metadata": {},
   "outputs": [],
   "source": [
    "# 这是一个用来得到ec的精细话数据的脚本"
   ]
  },
  {
   "cell_type": "markdown",
   "metadata": {},
   "source": [
    "# 数据类型\n",
    "1. vis \n",
    "2. uv_10\n",
    "3. tmax\n",
    "4. tmin\n",
    "5. tcc \n",
    "6. t2\n",
    "7. skt\n",
    "8. lsp(大尺度降水)\n",
    "9. conv(对流降水)\n"
   ]
  },
  {
   "cell_type": "code",
   "execution_count": 2,
   "metadata": {},
   "outputs": [],
   "source": [
    "import os\n",
    "os.environ[\"HDF5_USE_FILE_LOCKING\"] = 'FALSE'\n",
    "import netCDF4 \n",
    "import h5py     \n",
    "# 测试数据的可用性\n",
    "def read_data():\n",
    "        file_path = \"/home/liyuan3970/Data/My_Git/2022041700/\"        \n",
    "        file_name = file_path +\"ecfine.I2022041700.000.F2022041700.nc\"\n",
    "        f = netCDF4.Dataset(file_name)\n",
    "        data_xr_nc = f.variables['t']\n",
    "        lat = f.variables['latP'][:]\n",
    "        lon = f.variables['lonP'][:]\n",
    "        time = f.variables['time'][:]\n",
    "          \n",
    "        # return lat,lon,time,data_xr_nc\n",
    "read_data()\n"
   ]
  },
  {
   "cell_type": "code",
   "execution_count": 3,
   "metadata": {},
   "outputs": [
    {
     "name": "stderr",
     "output_type": "stream",
     "text": [
      "/opt/conda/lib/python3.7/site-packages/ipykernel_launcher.py:4: FutureWarning: In xarray version 0.15 the default behaviour of `open_mfdataset`\n",
      "will change. To retain the existing behavior, pass\n",
      "combine='nested'. To use future default behavior, pass\n",
      "combine='by_coords'. See\n",
      "http://xarray.pydata.org/en/stable/combining.html#combining-multi\n",
      "\n",
      "  after removing the cwd from sys.path.\n",
      "/opt/conda/lib/python3.7/site-packages/xarray/backends/api.py:941: FutureWarning: The datasets supplied have global dimension coordinates. You may want\n",
      "to use the new `combine_by_coords` function (or the\n",
      "`combine='by_coords'` option to `open_mfdataset`) to order the datasets\n",
      "before concatenation. Alternatively, to continue concatenating based\n",
      "on the order the datasets are supplied in future, please use the new\n",
      "`combine_nested` function (or the `combine='nested'` option to\n",
      "open_mfdataset).\n",
      "  from_openmfds=True,\n",
      "/opt/conda/lib/python3.7/site-packages/xarray/core/alignment.py:298: FutureWarning: Index.__or__ operating as a set operation is deprecated, in the future this will be a logical operation matching Series.__or__.  Use index.union(other) instead\n",
      "  index = joiner(matching_indexes)\n"
     ]
    }
   ],
   "source": [
    "# 面向过程的编程\n",
    "import xarray as xr\n",
    "file_path = \"/home/liyuan3970/Data/My_Git/2022041700/*.nc\" \n",
    "f = xr.open_mfdataset(file_path, parallel=True)\n",
    "\n"
   ]
  },
  {
   "cell_type": "code",
   "execution_count": 14,
   "metadata": {},
   "outputs": [
    {
     "data": {
      "text/html": [
       "<table>\n",
       "    <tr>\n",
       "        <td>\n",
       "            <table>\n",
       "                <thead>\n",
       "                    <tr>\n",
       "                        <td> </td>\n",
       "                        <th> Array </th>\n",
       "                        <th> Chunk </th>\n",
       "                    </tr>\n",
       "                </thead>\n",
       "                <tbody>\n",
       "                    \n",
       "                    <tr>\n",
       "                        <th> Bytes </th>\n",
       "                        <td> 212 B </td>\n",
       "                        <td> 4 B </td>\n",
       "                    </tr>\n",
       "                    \n",
       "                    <tr>\n",
       "                        <th> Shape </th>\n",
       "                        <td> (53,) </td>\n",
       "                        <td> (1,) </td>\n",
       "                    </tr>\n",
       "                    <tr>\n",
       "                        <th> Count </th>\n",
       "                        <td> 280 Tasks </td>\n",
       "                        <td> 53 Chunks </td>\n",
       "                    </tr>\n",
       "                    <tr>\n",
       "                    <th> Type </th>\n",
       "                    <td> float32 </td>\n",
       "                    <td> numpy.ndarray </td>\n",
       "                    </tr>\n",
       "                </tbody>\n",
       "            </table>\n",
       "        </td>\n",
       "        <td>\n",
       "        <svg width=\"170\" height=\"78\" style=\"stroke:rgb(0,0,0);stroke-width:1\" >\n",
       "\n",
       "  <!-- Horizontal lines -->\n",
       "  <line x1=\"0\" y1=\"0\" x2=\"120\" y2=\"0\" style=\"stroke-width:2\" />\n",
       "  <line x1=\"0\" y1=\"28\" x2=\"120\" y2=\"28\" style=\"stroke-width:2\" />\n",
       "\n",
       "  <!-- Vertical lines -->\n",
       "  <line x1=\"0\" y1=\"0\" x2=\"0\" y2=\"28\" style=\"stroke-width:2\" />\n",
       "  <line x1=\"4\" y1=\"0\" x2=\"4\" y2=\"28\" />\n",
       "  <line x1=\"11\" y1=\"0\" x2=\"11\" y2=\"28\" />\n",
       "  <line x1=\"18\" y1=\"0\" x2=\"18\" y2=\"28\" />\n",
       "  <line x1=\"24\" y1=\"0\" x2=\"24\" y2=\"28\" />\n",
       "  <line x1=\"29\" y1=\"0\" x2=\"29\" y2=\"28\" />\n",
       "  <line x1=\"36\" y1=\"0\" x2=\"36\" y2=\"28\" />\n",
       "  <line x1=\"43\" y1=\"0\" x2=\"43\" y2=\"28\" />\n",
       "  <line x1=\"49\" y1=\"0\" x2=\"49\" y2=\"28\" />\n",
       "  <line x1=\"56\" y1=\"0\" x2=\"56\" y2=\"28\" />\n",
       "  <line x1=\"61\" y1=\"0\" x2=\"61\" y2=\"28\" />\n",
       "  <line x1=\"67\" y1=\"0\" x2=\"67\" y2=\"28\" />\n",
       "  <line x1=\"74\" y1=\"0\" x2=\"74\" y2=\"28\" />\n",
       "  <line x1=\"81\" y1=\"0\" x2=\"81\" y2=\"28\" />\n",
       "  <line x1=\"88\" y1=\"0\" x2=\"88\" y2=\"28\" />\n",
       "  <line x1=\"92\" y1=\"0\" x2=\"92\" y2=\"28\" />\n",
       "  <line x1=\"99\" y1=\"0\" x2=\"99\" y2=\"28\" />\n",
       "  <line x1=\"106\" y1=\"0\" x2=\"106\" y2=\"28\" />\n",
       "  <line x1=\"113\" y1=\"0\" x2=\"113\" y2=\"28\" />\n",
       "  <line x1=\"120\" y1=\"0\" x2=\"120\" y2=\"28\" style=\"stroke-width:2\" />\n",
       "\n",
       "  <!-- Colored Rectangle -->\n",
       "  <polygon points=\"0.0,0.0 120.0,0.0 120.0,28.70454756150838 0.0,28.70454756150838\" style=\"fill:#8B4903A0;stroke-width:0\"/>\n",
       "\n",
       "  <!-- Text -->\n",
       "  <text x=\"60.000000\" y=\"48.704548\" font-size=\"1.0rem\" font-weight=\"100\" text-anchor=\"middle\" >53</text>\n",
       "  <text x=\"140.000000\" y=\"14.352274\" font-size=\"1.0rem\" font-weight=\"100\" text-anchor=\"middle\" transform=\"rotate(0,140.000000,14.352274)\">1</text>\n",
       "</svg>\n",
       "        </td>\n",
       "    </tr>\n",
       "</table>"
      ],
      "text/plain": [
       "dask.array<getitem, shape=(53,), dtype=float32, chunksize=(1,), chunktype=numpy.ndarray>"
      ]
     },
     "execution_count": 14,
     "metadata": {},
     "output_type": "execute_result"
    }
   ],
   "source": [
    "# 读取固定点的数据\n",
    "#选择固定经纬度范围的数据\n",
    "# sub=ff.sel(lon=slice(105,120),lat=slice(15,30))\n",
    "t =f.t\n",
    "t.sel(lev=1000,lonP=125,latP=27.5,method='nearest').data\n"
   ]
  },
  {
   "cell_type": "code",
   "execution_count": 18,
   "metadata": {},
   "outputs": [
    {
     "data": {
      "text/plain": [
       "array([1.1, 2.2, 3.3, 4.4, 5.5, 6.6, 7.7, 8.8, 9.9])"
      ]
     },
     "execution_count": 18,
     "metadata": {},
     "output_type": "execute_result"
    }
   ],
   "source": [
    "# 线性插值的核心\n",
    "import numpy as np\n",
    "import matplotlib.pyplot as plt\n",
    "from scipy.interpolate import griddata\n",
    "from scipy.interpolate import interp1d\n",
    "\n",
    "x = [1,2,3,4,5,6,7,8,9,10]\n",
    "y = [1,2,3,4,5,6,7,8,9,10] # 对应没每个点的值\n",
    "f1=interp1d(x,y,kind='linear')#,kind='cubic'\n",
    "f1=interp1d(x,y,kind='cubic')#,kind='cubic'\n",
    "x_pre = [1.1,2.2,3.3,4.4,5.5,6.6,7.7,8.8,9.9]\n",
    "\n",
    "y_pre = f1(x_pre)\n",
    "\n",
    "y_pre\n"
   ]
  },
  {
   "cell_type": "code",
   "execution_count": 21,
   "metadata": {},
   "outputs": [],
   "source": [
    "# 数据结构的设计\n",
    "data = {\n",
    "    '淡竹':{\n",
    "        'value1':[53],\n",
    "        'value2':[53],\n",
    "        'value3':[53]\n",
    "    },\n",
    "    '洪家':{\n",
    "        'value1':[53],\n",
    "        'value2':[53],\n",
    "        'value3':[53]\n",
    "    }\n",
    "    }"
   ]
  },
  {
   "cell_type": "code",
   "execution_count": null,
   "metadata": {},
   "outputs": [],
   "source": []
  },
  {
   "cell_type": "code",
   "execution_count": 16,
   "metadata": {},
   "outputs": [
    {
     "name": "stdout",
     "output_type": "stream",
     "text": [
      "2022041700\n"
     ]
    },
    {
     "name": "stderr",
     "output_type": "stream",
     "text": [
      "/opt/conda/lib/python3.7/site-packages/ipykernel_launcher.py:9: FutureWarning: In xarray version 0.15 the default behaviour of `open_mfdataset`\n",
      "will change. To retain the existing behavior, pass\n",
      "combine='nested'. To use future default behavior, pass\n",
      "combine='by_coords'. See\n",
      "http://xarray.pydata.org/en/stable/combining.html#combining-multi\n",
      "\n",
      "  if __name__ == '__main__':\n",
      "/opt/conda/lib/python3.7/site-packages/xarray/backends/api.py:941: FutureWarning: The datasets supplied have global dimension coordinates. You may want\n",
      "to use the new `combine_by_coords` function (or the\n",
      "`combine='by_coords'` option to `open_mfdataset`) to order the datasets\n",
      "before concatenation. Alternatively, to continue concatenating based\n",
      "on the order the datasets are supplied in future, please use the new\n",
      "`combine_nested` function (or the `combine='nested'` option to\n",
      "open_mfdataset).\n",
      "  from_openmfds=True,\n",
      "/opt/conda/lib/python3.7/site-packages/xarray/core/alignment.py:298: FutureWarning: Index.__or__ operating as a set operation is deprecated, in the future this will be a logical operation matching Series.__or__.  Use index.union(other) instead\n",
      "  index = joiner(matching_indexes)\n"
     ]
    },
    {
     "name": "stdout",
     "output_type": "stream",
     "text": [
      "<xarray.Dataset>\n",
      "Dimensions:  (latP: 241, latS: 481, lev: 15, lonP: 361, lonS: 721, time: 53)\n",
      "Coordinates:\n",
      "  * latS     (latS) float32 60.0 59.875 59.75 59.625 ... 0.375 0.25 0.125 0.0\n",
      "  * latP     (latP) float32 60.0 59.75 59.5 59.25 59.0 ... 1.0 0.75 0.5 0.25 0.0\n",
      "  * lonP     (lonP) float32 60.0 60.25 60.5 60.75 ... 149.25 149.5 149.75 150.0\n",
      "  * lonS     (lonS) float32 60.0 60.125 60.25 60.375 ... 149.75 149.875 150.0\n",
      "  * lev      (lev) int64 50 100 150 200 250 300 400 ... 700 850 900 925 950 1000\n",
      "  * time     (time) datetime64[ns] 2022-04-17 2022-04-17T03:00:00 ... 2022-04-27\n",
      "Data variables:\n",
      "    vis      (time, latS, lonS) float32 dask.array<chunksize=(1, 481, 721), meta=np.ndarray>\n",
      "    deg0l    (time, latS, lonS) float32 dask.array<chunksize=(1, 481, 721), meta=np.ndarray>\n",
      "    fg103    (time, latS, lonS) float32 dask.array<chunksize=(1, 481, 721), meta=np.ndarray>\n",
      "    sden     (time, latS, lonS) float32 dask.array<chunksize=(1, 481, 721), meta=np.ndarray>\n",
      "    cape     (time, latS, lonS) float32 dask.array<chunksize=(1, 481, 721), meta=np.ndarray>\n",
      "    tmax2    (time, latS, lonS) float32 dask.array<chunksize=(1, 481, 721), meta=np.ndarray>\n",
      "    tmin2    (time, latS, lonS) float32 dask.array<chunksize=(1, 481, 721), meta=np.ndarray>\n",
      "    fg106    (time, latS, lonS) float32 dask.array<chunksize=(1, 481, 721), meta=np.ndarray>\n",
      "    t        (time, lev, latP, lonP) float32 dask.array<chunksize=(1, 15, 241, 361), meta=np.ndarray>\n",
      "    u        (time, lev, latP, lonP) float32 dask.array<chunksize=(1, 15, 241, 361), meta=np.ndarray>\n",
      "    v        (time, lev, latP, lonP) float32 dask.array<chunksize=(1, 15, 241, 361), meta=np.ndarray>\n",
      "    q        (time, lev, latP, lonP) float32 dask.array<chunksize=(1, 15, 241, 361), meta=np.ndarray>\n",
      "    w        (time, lev, latP, lonP) float32 dask.array<chunksize=(1, 15, 241, 361), meta=np.ndarray>\n",
      "    tcwv     (time, latS, lonS) float32 dask.array<chunksize=(1, 481, 721), meta=np.ndarray>\n",
      "    sd       (time, latS, lonS) float32 dask.array<chunksize=(1, 481, 721), meta=np.ndarray>\n",
      "    lsp      (time, latS, lonS) float32 dask.array<chunksize=(1, 481, 721), meta=np.ndarray>\n",
      "    cp       (time, latS, lonS) float32 dask.array<chunksize=(1, 481, 721), meta=np.ndarray>\n",
      "    sf       (time, latS, lonS) float32 dask.array<chunksize=(1, 481, 721), meta=np.ndarray>\n",
      "    slp      (time, latS, lonS) float32 dask.array<chunksize=(1, 481, 721), meta=np.ndarray>\n",
      "    h        (time, lev, latP, lonP) float32 dask.array<chunksize=(1, 15, 241, 361), meta=np.ndarray>\n",
      "    r        (time, lev, latP, lonP) float32 dask.array<chunksize=(1, 15, 241, 361), meta=np.ndarray>\n",
      "    tcc      (time, latS, lonS) float32 dask.array<chunksize=(1, 481, 721), meta=np.ndarray>\n",
      "    u10      (time, latS, lonS) float32 dask.array<chunksize=(1, 481, 721), meta=np.ndarray>\n",
      "    v10      (time, latS, lonS) float32 dask.array<chunksize=(1, 481, 721), meta=np.ndarray>\n",
      "    t2       (time, latS, lonS) float32 dask.array<chunksize=(1, 481, 721), meta=np.ndarray>\n",
      "    d2       (time, latS, lonS) float32 dask.array<chunksize=(1, 481, 721), meta=np.ndarray>\n",
      "    lcc      (time, latS, lonS) float32 dask.array<chunksize=(1, 481, 721), meta=np.ndarray>\n",
      "    tp       (time, latS, lonS) float32 dask.array<chunksize=(1, 481, 721), meta=np.ndarray>\n",
      "    skt      (time, latS, lonS) float32 dask.array<chunksize=(1, 481, 721), meta=np.ndarray>\n",
      "Attributes:\n",
      "    Description:  This is ECMWF fine grid operational forecasting, converted ...\n",
      "    Author:       SunZhang @ Zhejiang Observatory (sunzhang@mail.iap.ac.cn)\n",
      "    CreateTime:   2022-04-17 13:45:14\n"
     ]
    }
   ],
   "source": [
    "import xarray as xr\n",
    "class ec_data_point:\n",
    "    def __init__(self, select_time,select_type,select_lat,select_lon):\n",
    "        pass\n",
    "    def read_data(self):\n",
    "        file_path = \"/home/liyuan3970/Data/My_Git/2022041700/*.nc\" \n",
    "        print(select_time)\n",
    "        # f = xr.open_mfdataset(file_path,combine='by_coords',concat_dim=None,data_vars='t', parallel=True)\n",
    "        f = xr.open_mfdataset(file_path, parallel=True)\n",
    "        print(f)\n",
    "\n",
    "        \n",
    "        \n",
    "    def render_tojson():\n",
    "        pass\n",
    "        \n",
    "select_time,select_type,select_lat,select_lon = '2022041700','t',27.5,125.7\n",
    "ec_worker = ec_data_point(select_time,select_type,select_lat,select_lon)        \n",
    "imd_list = ec_worker.read_data()"
   ]
  }
 ],
 "metadata": {
  "kernelspec": {
   "display_name": "Python 3",
   "language": "python",
   "name": "python3"
  },
  "language_info": {
   "codemirror_mode": {
    "name": "ipython",
    "version": 3
   },
   "file_extension": ".py",
   "mimetype": "text/x-python",
   "name": "python",
   "nbconvert_exporter": "python",
   "pygments_lexer": "ipython3",
   "version": "3.7.6"
  }
 },
 "nbformat": 4,
 "nbformat_minor": 4
}
