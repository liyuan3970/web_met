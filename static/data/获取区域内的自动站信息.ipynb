{
 "cells": [
  {
   "cell_type": "code",
   "execution_count": null,
   "metadata": {},
   "outputs": [],
   "source": []
  },
  {
   "cell_type": "code",
   "execution_count": 1,
   "metadata": {},
   "outputs": [
    {
     "name": "stderr",
     "output_type": "stream",
     "text": [
      "/opt/conda/lib/python3.7/site-packages/pandas/compat/_optional.py:138: UserWarning: Pandas requires version '2.7.0' or newer of 'numexpr' (version '2.6.9' currently installed).\n",
      "  warnings.warn(msg, UserWarning)\n"
     ]
    },
    {
     "name": "stdout",
     "output_type": "stream",
     "text": [
      "(11, 1)\n",
      "[(56,), (86,), (209,), (195,), (291,), (172,), (253,), (186,), (144,), (62,), (10,)]\n"
     ]
    }
   ],
   "source": [
    "import pymssql \n",
    "import pandas as pd\n",
    "server = \"172.21.158.201\"    # 连接服务器地址\n",
    "user = \"down\"# 连接帐号\n",
    "password = \"downx\"# 连接密码\n",
    "conn = pymssql.connect(server, user, password, \"ZJSZDZDB\")  #获取连接\n",
    "\n",
    "cursor = conn.cursor() # 获取光标\n",
    "\n",
    "cursor.execute('USE ZJSZDZDB' )\n",
    "\n",
    "sql  = \"select RR from TAB_Aws2019 where (IIiii='58667' and tTime between '2019-08-09 22:00' and '2019-08-10 08:00') order by tTime\"\n",
    "cursor.execute(sql) \n",
    "#select IIiii ,MAX(fFy*1000+dFy) AS Expr1 FROM Tab_Aws WHERE (IIiii IN('58665','58559','58568','58652')) AND (tTime BETWEEN '2020-7-14 2:00:01' AND '2020-7-14 05:00:00') GROUP BY IIiii\n",
    "#sql2 = \"GO\"\n",
    "#cursor.execute(sql2)\n",
    "row = cursor.fetchall()\n",
    "print(pd.DataFrame(list(row)).shape)\n",
    "print(row)\n",
    "cursor.close()  # 关闭游标\n",
    "conn.close()  # 关闭连接"
   ]
  },
  {
   "cell_type": "code",
   "execution_count": 6,
   "metadata": {},
   "outputs": [
    {
     "name": "stdout",
     "output_type": "stream",
     "text": [
      "CPU times: user 12.9 ms, sys: 1.36 ms, total: 14.2 ms\n",
      "Wall time: 80.7 ms\n"
     ]
    }
   ],
   "source": [
    "%%time\n",
    "import concurrent.futures\n",
    "import pandas as pd\n",
    "import pymssql \n",
    "def function(sql):\n",
    "    server = \"172.21.158.201\"    # 连接服务器地址\n",
    "    user = \"down\"# 连接帐号\n",
    "    password = \"downx\"# 连接密码\n",
    "    conn = pymssql.connect(server, user, password, \"ZJSZDZDB\") \n",
    "    df_location = pd.read_sql(sql, con=conn)\n",
    "#     print(df_location)\n",
    "    return df_location\n",
    "\n",
    "sql = \"select  IIiii,StationName,lat,lon from TAB_StationInfo where (lon>120.1 and lon<122 and lat>27.8 and lat<29.5 )\" \n",
    "data = function(sql)"
   ]
  },
  {
   "cell_type": "code",
   "execution_count": 8,
   "metadata": {},
   "outputs": [],
   "source": [
    "data.to_csv(\"自动站位置.csv\")"
   ]
  },
  {
   "cell_type": "code",
   "execution_count": null,
   "metadata": {},
   "outputs": [],
   "source": []
  }
 ],
 "metadata": {
  "kernelspec": {
   "display_name": "Python 3",
   "language": "python",
   "name": "python3"
  },
  "language_info": {
   "codemirror_mode": {
    "name": "ipython",
    "version": 3
   },
   "file_extension": ".py",
   "mimetype": "text/x-python",
   "name": "python",
   "nbconvert_exporter": "python",
   "pygments_lexer": "ipython3",
   "version": "3.7.6"
  }
 },
 "nbformat": 4,
 "nbformat_minor": 4
}
