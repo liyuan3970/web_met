{
 "cells": [
  {
   "cell_type": "markdown",
   "id": "9419d7a7",
   "metadata": {},
   "source": [
    "# 设计Echart版本的ec数据读取形式"
   ]
  },
  {
   "cell_type": "code",
   "execution_count": null,
   "id": "2400504a",
   "metadata": {},
   "outputs": [],
   "source": [
    "%%time\n",
    "import xarray as xr\n",
    "import numpy as np\n",
    "import matplotlib.pyplot as plt\n",
    "from scipy.interpolate import griddata\n",
    "from scipy.interpolate import interp1d\n",
    "import xesmf as xe\n",
    "import redis\n",
    "import pandas as pd\n",
    "import datetime\n",
    "from matplotlib.colors import ListedColormap,LinearSegmentedColormap\n",
    "import os\n",
    "import random\n",
    "from io import BytesIO\n",
    "import base64\n",
    "\n",
    "class ec_data_point:\n",
    "    def __init__(self,start_time,end_time):\n",
    "        self.timelist = [0,2,4,6,8,10,12,14,16,18,20,22,24,25,\n",
    "                         26,27,28,29,30,31,32,33,34,35,36,37,38,39,40,\n",
    "                        41,42,43,44,45,46,47,48,49,50,51,52]\n",
    "        self.select_time = '2022101612'\n",
    "        self.file_path = \"/workspace/Data/My_Git/\" + self.select_time + \"/\" \n",
    "\n",
    "\n"
   ]
  }
 ],
 "metadata": {
  "kernelspec": {
   "display_name": "Python 3 (ipykernel)",
   "language": "python",
   "name": "python3"
  },
  "language_info": {
   "codemirror_mode": {
    "name": "ipython",
    "version": 3
   },
   "file_extension": ".py",
   "mimetype": "text/x-python",
   "name": "python",
   "nbconvert_exporter": "python",
   "pygments_lexer": "ipython3",
   "version": "3.7.13"
  }
 },
 "nbformat": 4,
 "nbformat_minor": 5
}
