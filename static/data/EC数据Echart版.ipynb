{
 "cells": [
  {
   "cell_type": "markdown",
   "id": "d07d41d1",
   "metadata": {},
   "source": [
    "# 设计Echart版本的ec数据读取形式"
   ]
  },
  {
   "cell_type": "code",
   "execution_count": null,
   "id": "54b40b45",
   "metadata": {},
   "outputs": [],
   "source": []
  }
 ],
 "metadata": {
  "kernelspec": {
   "display_name": "Python 3 (ipykernel)",
   "language": "python",
   "name": "python3"
  },
  "language_info": {
   "codemirror_mode": {
    "name": "ipython",
    "version": 3
   },
   "file_extension": ".py",
   "mimetype": "text/x-python",
   "name": "python",
   "nbconvert_exporter": "python",
   "pygments_lexer": "ipython3",
   "version": "3.7.13"
  }
 },
 "nbformat": 4,
 "nbformat_minor": 5
}
