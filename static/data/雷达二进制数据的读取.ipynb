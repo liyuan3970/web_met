{
 "cells": [
  {
   "cell_type": "code",
   "execution_count": null,
   "id": "ef5cfebf",
   "metadata": {},
   "outputs": [],
   "source": []
  },
  {
   "cell_type": "code",
   "execution_count": null,
   "id": "5ad4d391",
   "metadata": {},
   "outputs": [],
   "source": [
    "with open(\"input/BJXCP_20190809174233Z_CR_00_37\", \"rb\") as f:\n",
    "    content = f.read(50)\n",
    "    print(\"前50字节为：{}\".format(content))\n",
    "    print(\"字节为：{}\".format(content[0:2]))\n",
    "    print(int.from_bytes(content[0:2], \"little\"))"
   ]
  },
  {
   "cell_type": "code",
   "execution_count": null,
   "id": "62602f8b",
   "metadata": {},
   "outputs": [],
   "source": []
  }
 ],
 "metadata": {
  "kernelspec": {
   "display_name": "Python 3 (ipykernel)",
   "language": "python",
   "name": "python3"
  },
  "language_info": {
   "codemirror_mode": {
    "name": "ipython",
    "version": 3
   },
   "file_extension": ".py",
   "mimetype": "text/x-python",
   "name": "python",
   "nbconvert_exporter": "python",
   "pygments_lexer": "ipython3",
   "version": "3.7.13"
  }
 },
 "nbformat": 4,
 "nbformat_minor": 5
}
