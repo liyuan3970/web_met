{
 "cells": [
  {
   "cell_type": "code",
   "execution_count": null,
   "id": "3e7d23c5",
   "metadata": {},
   "outputs": [],
   "source": []
  },
  {
   "cell_type": "code",
   "execution_count": 44,
   "id": "9f3727e7",
   "metadata": {},
   "outputs": [],
   "source": [
    "#coding=utf8\n",
    "from weasyprint import HTML\n",
    "\n",
    "\n",
    "HTML(string='''<h1>我是谁阿斯蒂芬啊是</h1><p>Content goes here''', encoding=\"UTF-8\").write_pdf('base64.pdf')\n",
    "# pdf1 = HTML(string='''<h1>打发士大夫</h1><p>Content goes here''').render()\n",
    "# pdf_file = pdf1.write_pdf()"
   ]
  }
 ],
 "metadata": {
  "kernelspec": {
   "display_name": "Python 3 (ipykernel)",
   "language": "python",
   "name": "python3"
  },
  "language_info": {
   "codemirror_mode": {
    "name": "ipython",
    "version": 3
   },
   "file_extension": ".py",
   "mimetype": "text/x-python",
   "name": "python",
   "nbconvert_exporter": "python",
   "pygments_lexer": "ipython3",
   "version": "3.7.13"
  }
 },
 "nbformat": 4,
 "nbformat_minor": 5
}
