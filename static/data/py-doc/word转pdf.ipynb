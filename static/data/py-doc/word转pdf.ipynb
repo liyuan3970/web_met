{
 "cells": [
  {
   "cell_type": "code",
   "execution_count": null,
   "metadata": {},
   "outputs": [],
   "source": [
    "# pip install comtypes\n",
    "def get_file(input_path, output_path):\n",
    "    # 获取所有文件名的列表\n",
    "    filename_list = os.listdir(input_path)\n",
    "    # 获取所有 Word 文件名列表\n",
    "    wordname_list = [filename for filename in filename_list \\\n",
    "                     if filename.endswith((\".doc\", \".docx\"))]\n",
    "    for wordname in wordname_list:\n",
    "        # 分离 Word 文件名称和后缀，转化为 PDF 名称\n",
    "        pdfname = os.path.splitext(wordname)[0] + \".pdf\"\n",
    "        # 如果当前 Word 文件对应的 PDF 文件存在，则不转化\n",
    "        if pdfname in filename_list:\n",
    "            continue\n",
    "        # 拼接路径和文件名\n",
    "        wordpath = os.path.join(input_path, wordname)\n",
    "        pdfpath = os.path.join(output_path, pdfname)\n",
    "        # 生成器\n",
    "        yield wordpath, pdfpath\n",
    "\n",
    "def word2pdf(input_path, output_path):\n",
    "    word = comtypes.client.CreateObject(\"Word.Application\")\n",
    "    word.Visible = 0\n",
    "    for wordpath, pdfpath in get_file(input_path, output_path):\n",
    "        newpdf = word.Documents.Open(wordpath)\n",
    "        newpdf.SaveAs(pdfpath, FileFormat=17)\n",
    "        newpdf.Close()"
   ]
  }
 ],
 "metadata": {
  "kernelspec": {
   "display_name": "Python 3",
   "language": "python",
   "name": "python3"
  },
  "language_info": {
   "codemirror_mode": {
    "name": "ipython",
    "version": 3
   },
   "file_extension": ".py",
   "mimetype": "text/x-python",
   "name": "python",
   "nbconvert_exporter": "python",
   "pygments_lexer": "ipython3",
   "version": "3.7.6"
  }
 },
 "nbformat": 4,
 "nbformat_minor": 4
}
