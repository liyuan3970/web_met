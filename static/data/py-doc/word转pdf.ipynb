{
 "cells": [
  {
   "cell_type": "code",
   "execution_count": 1,
   "metadata": {},
   "outputs": [
    {
     "data": {
      "text/plain": [
       "'/home/liyuan3970/Data/My_Git/web_met/static/data/py-doc'"
      ]
     },
     "execution_count": 1,
     "metadata": {},
     "output_type": "execute_result"
    }
   ],
   "source": [
    "pwd"
   ]
  },
  {
   "cell_type": "code",
   "execution_count": 2,
   "metadata": {},
   "outputs": [
    {
     "name": "stdout",
     "output_type": "stream",
     "text": [
      "fullpath:\"word/~$市气象局_一周天气_第1期.docx\n"
     ]
    },
    {
     "ename": "NotImplementedError",
     "evalue": "docx2pdf is not implemented for linux as it requires Microsoft Word to be installed",
     "output_type": "error",
     "traceback": [
      "\u001b[0;31m---------------------------------------------------------------------------\u001b[0m",
      "\u001b[0;31mNotImplementedError\u001b[0m                       Traceback (most recent call last)",
      "\u001b[0;32m<ipython-input-2-1a15879ed80a>\u001b[0m in \u001b[0;36m<module>\u001b[0;34m\u001b[0m\n\u001b[1;32m     13\u001b[0m         \u001b[0mprint\u001b[0m\u001b[0;34m(\u001b[0m\u001b[0;34m'fullpath:\"'\u001b[0m\u001b[0;34m+\u001b[0m\u001b[0mfullpath\u001b[0m\u001b[0;34m)\u001b[0m\u001b[0;34m\u001b[0m\u001b[0;34m\u001b[0m\u001b[0m\n\u001b[1;32m     14\u001b[0m         \u001b[0;31m# convert(\"input.docx\", \"output.pdf\")\u001b[0m\u001b[0;34m\u001b[0m\u001b[0;34m\u001b[0m\u001b[0;34m\u001b[0m\u001b[0m\n\u001b[0;32m---> 15\u001b[0;31m         \u001b[0mconvert\u001b[0m\u001b[0;34m(\u001b[0m\u001b[0mfullpath\u001b[0m\u001b[0;34m,\u001b[0m \u001b[0;34mf\"{fullpath}.pdf\"\u001b[0m\u001b[0;34m)\u001b[0m  \u001b[0;31m# 转换成pdf文件，但文件名是.docx.pdf，需要重新修改文件名\u001b[0m\u001b[0;34m\u001b[0m\u001b[0;34m\u001b[0m\u001b[0m\n\u001b[0m\u001b[1;32m     16\u001b[0m \u001b[0;34m\u001b[0m\u001b[0m\n\u001b[1;32m     17\u001b[0m \u001b[0;31m# 修改文件名\u001b[0m\u001b[0;34m\u001b[0m\u001b[0;34m\u001b[0m\u001b[0;34m\u001b[0m\u001b[0m\n",
      "\u001b[0;32m/opt/conda/lib/python3.7/site-packages/docx2pdf/__init__.py\u001b[0m in \u001b[0;36mconvert\u001b[0;34m(input_path, output_path, keep_active)\u001b[0m\n\u001b[1;32m    107\u001b[0m     \u001b[0;32melse\u001b[0m\u001b[0;34m:\u001b[0m\u001b[0;34m\u001b[0m\u001b[0;34m\u001b[0m\u001b[0m\n\u001b[1;32m    108\u001b[0m         raise NotImplementedError(\n\u001b[0;32m--> 109\u001b[0;31m             \u001b[0;34m\"docx2pdf is not implemented for linux as it requires Microsoft Word to be installed\"\u001b[0m\u001b[0;34m\u001b[0m\u001b[0;34m\u001b[0m\u001b[0m\n\u001b[0m\u001b[1;32m    110\u001b[0m         )\n\u001b[1;32m    111\u001b[0m \u001b[0;34m\u001b[0m\u001b[0m\n",
      "\u001b[0;31mNotImplementedError\u001b[0m: docx2pdf is not implemented for linux as it requires Microsoft Word to be installed"
     ]
    }
   ],
   "source": [
    "import os\n",
    "from docx2pdf import convert\n",
    " \n",
    " \n",
    "# 目录地址，将'/'替换成需要转换的目录地址就行\n",
    "file_path = r'word/'\n",
    " \n",
    "#转换word->pdf\n",
    "# 查找当前目录下的全部word文件\n",
    "for dirpath, dirnames, filenames in os.walk(file_path):\n",
    "    for file in filenames:\n",
    "        fullpath = os.path.join(dirpath, file)\n",
    "        print('fullpath:\"'+fullpath)\n",
    "        # convert(\"input.docx\", \"output.pdf\")\n",
    "        convert(fullpath, f\"{fullpath}.pdf\")  # 转换成pdf文件，但文件名是.docx.pdf，需要重新修改文件名\n",
    " \n",
    "# 修改文件名\n",
    "for dirpath, dirnames, filenames in os.walk(file_path):\n",
    "    for fullpath in filenames:\n",
    "        # print(fullpath)\n",
    "        if '.pdf' in fullpath:\n",
    "            fullpath_after = os.path.splitext(fullpath)[0]\n",
    "            fullpath_after = os.path.splitext(fullpath_after)[0]\n",
    "            fullpath_after = fullpath_after + '.pdf'\n",
    "            fullpath_after = os.path.join(dirpath + '\\\\' + fullpath_after)\n",
    "            # print('fullpath_after:' + fullpath_after)\n",
    "            fullpath = os.path.join(dirpath, fullpath)\n",
    "            # print('fullpath:'+fullpath)\n",
    "            os.rename(fullpath, fullpath_after)"
   ]
  }
 ],
 "metadata": {
  "kernelspec": {
   "display_name": "Python 3",
   "language": "python",
   "name": "python3"
  },
  "language_info": {
   "codemirror_mode": {
    "name": "ipython",
    "version": 3
   },
   "file_extension": ".py",
   "mimetype": "text/x-python",
   "name": "python",
   "nbconvert_exporter": "python",
   "pygments_lexer": "ipython3",
   "version": "3.7.6"
  }
 },
 "nbformat": 4,
 "nbformat_minor": 4
}
