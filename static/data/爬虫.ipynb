{
 "cells": [
  {
   "cell_type": "markdown",
   "id": "024b314c",
   "metadata": {},
   "source": [
    "# 十天天气:\n",
    "http://10.137.4.30:6001/integration/main/ssd-product-publish/getLatestPublish?productCode=sttq&loginAreaId=34197a647f8111eaae330221860e9b7e&loginOrgId=fd1411e47c3f4dcb87beaa110a21a979&loginUserId=dc739e110dbe4911bb7438da035b5d59\n",
    "# 短期预报:\n",
    "http://10.137.4.30:6001/integration/main/ssd-product-publish/getLatestPublish?productCode=dqyb&loginAreaId=34197a647f8111eaae330221860e9b7e&loginOrgId=fd1411e47c3f4dcb87beaa110a21a979&loginUserId=dc739e110dbe4911bb7438da035b5d59"
   ]
  },
  {
   "cell_type": "markdown",
   "id": "15477658",
   "metadata": {},
   "source": [
    "## 爬虫"
   ]
  },
  {
   "cell_type": "code",
   "execution_count": 33,
   "id": "2ce13dab",
   "metadata": {},
   "outputs": [
    {
     "data": {
      "text/plain": [
       "('台州主城区十天预报：',\n",
       " ['24日（周五）：阴局部小雨，下午到傍晚阴到多云，',\n",
       "  '25日（周六）：晴到多云，',\n",
       "  '26日（周日）：晴到多云，',\n",
       "  '27日（周一）：晴转多云，',\n",
       "  '28日（周二）：多云到阴转阴部分地区有小雨，',\n",
       "  '1日（周三）：多云，',\n",
       "  '2日（周四）：多云到阴，'],\n",
       " ['9～12度；', '5～12度；', '3～10度；', '5～14度；', '6～16度；', '12～20度；', '7～14度；'])"
      ]
     },
     "execution_count": 33,
     "metadata": {},
     "output_type": "execute_result"
    }
   ],
   "source": [
    "import requests as rq\n",
    "# import json\n",
    "def get_short_data():\n",
    "    url = '''http://10.137.4.30:6001/integration/main/ssd-product-publish/getLatestPublish?productCode=dqyb&loginAreaId=34197a647f8111eaae330221860e9b7e&loginOrgId=fd1411e47c3f4dcb87beaa110a21a979&loginUserId=dc739e110dbe4911bb7438da035b5d59'''\n",
    "    req =  rq.get(url,timeout=3000)\n",
    "    req_json = req.json()\n",
    "    req_data = req_json['data']['content'].split(\"\\n\") \n",
    "    for i in range(len(req_data)):\n",
    "        if req_data[i]=='天气预报：':\n",
    "            title = req_data[i]\n",
    "            weather = req_data[i+1]\n",
    "            temp1st = req_data[i+2] \n",
    "            temp2st = req_data[i+3] \n",
    "            wind = req_data[i+4]  \n",
    "    #print(title,weather,temp1st,temp2st,wind)\n",
    "    return title,weather,temp1st,temp2st,wind\n",
    "\n",
    "def get_long_data():\n",
    "    url = '''http://10.137.4.30:6001/integration/main/ssd-product-publish/getLatestPublish?productCode=sttq&loginAreaId=34197a647f8111eaae330221860e9b7e&loginOrgId=fd1411e47c3f4dcb87beaa110a21a979&loginUserId=dc739e110dbe4911bb7438da035b5d59'''\n",
    "    req =  rq.get(url,timeout=3000)\n",
    "    req_json = req.json()\n",
    "    req_data = req_json['data']['content'].split(\"\\n\") \n",
    "    return_list = []\n",
    "    for i in range(len(req_data)):\n",
    "        if req_data[i]=='台州主城区十天预报：':\n",
    "            title = req_data[i]\n",
    "            day1= req_data[i+1].split(\"，\")[-1]\n",
    "            temp1 = req_data[i+1].replace(day1,\"\")\n",
    "            day2= req_data[i+2].split(\"，\")[-1]\n",
    "            temp2 = req_data[i+2].replace(day2,\"\")\n",
    "            day3= req_data[i+3].split(\"，\")[-1]\n",
    "            temp3 = req_data[i+3].replace(day3,\"\")\n",
    "            day4= req_data[i+4].split(\"，\")[-1]\n",
    "            temp4 = req_data[i+4].replace(day4,\"\")\n",
    "            day5= req_data[i+5].split(\"，\")[-1]\n",
    "            temp5 = req_data[i+5].replace(day5,\"\")\n",
    "            day6= req_data[i+6].split(\"，\")[-1]\n",
    "            temp6 = req_data[i+6].replace(day6,\"\")\n",
    "            day7= req_data[i+7].split(\"，\")[-1]\n",
    "            temp7 = req_data[i+7].replace(day7,\"\")\n",
    "            daylist = [day1, day2, day3, day4, day5, day6, day7]\n",
    "            templist = [temp1, temp2, temp3, temp4, temp5, temp6, temp7]   \n",
    "    #print(title,templist,daylist)  \n",
    "    return title,templist,daylist\n",
    "    \n",
    "get_long_data()"
   ]
  },
  {
   "cell_type": "markdown",
   "id": "0e932a73",
   "metadata": {},
   "source": [
    "{'success': True, 'code': 0, 'message': '查询成功', 'data': {'id': '858defb134834b139644cf52996c6461', 'product_info_id': '4dc0e01fd53443558d54fba97424819b', 'product_info_name': '短期预报-06时', 'publish_user': '陆桥', 'publish_time': '2023-02-24 05:52', 'content': '天气预报：\\n今天阴局部小雨，夜里转阴到多云；明天、后天晴到多云。\\n今天白天最高温度：10～12度；\\n明天早晨最低温度：2～4度。\\n沿海海面：北到东北风6-7级阵风8级，下午起7-8级阵风9级，半夜继续增强到8级阵风9-10级。\\n\\n             台州市气象台\\n         2023年2月24日5时', 'channel_content': '{\"FTP\":\"天气预报：\\\\n今天阴局部小雨，夜里转阴到多云；明天、后天晴到多云。\\\\n今天白天最高温度：10～12度；\\\\n明天早晨最低温度：2～4度。\\\\n沿海海面：北到东北风6-7级阵风8级，下午起7-8级阵风9级，半夜继续增强到8级阵风9-10级。\\\\n\\\\n             台州市气象台\\\\n         2023年2月24日5时\",\"MMLED\":\"天气预报：\\\\n今天阴局部小雨，夜里转阴到多云；明天、后天晴到多云。\\\\n今天白天最高温度：10～12度；\\\\n明天早晨最低温度：2～4度。\\\\n沿海海面：北到东北风6-7级阵风8级，下午起7-8级阵风9级，半夜继续增强到8级阵风9-10级。\\\\n\\\\n             台州市气象台\\\\n         2023年2月24日5时\"}', 'file_type': 'txt', 'file_name': 'tq2406.txt', 'file_path': '/TZData/product/2023/02/24/tq2406.txt', 'pdf_path': None}}"
   ]
  }
 ],
 "metadata": {
  "kernelspec": {
   "display_name": "Python 3 (ipykernel)",
   "language": "python",
   "name": "python3"
  },
  "language_info": {
   "codemirror_mode": {
    "name": "ipython",
    "version": 3
   },
   "file_extension": ".py",
   "mimetype": "text/x-python",
   "name": "python",
   "nbconvert_exporter": "python",
   "pygments_lexer": "ipython3",
   "version": "3.7.15"
  }
 },
 "nbformat": 4,
 "nbformat_minor": 5
}
