{
 "cells": [
  {
   "cell_type": "markdown",
   "metadata": {},
   "source": [
    "# 自动站数据转换"
   ]
  },
  {
   "cell_type": "code",
   "execution_count": 14,
   "metadata": {},
   "outputs": [],
   "source": [
    "import pandas as pd\n",
    "import numpy as np\n",
    "import xarray as xr\n",
    "station_Mws = pd.read_csv(\"Mws2022.csv\", keep_default_na=-9999)\n",
    "station_Aws = pd.read_csv(\"Aws2022.csv\", keep_default_na=-9999)\n",
    "station_all = pd.concat([station_Aws,station_Mws])\n",
    "\n",
    "grouped = station_all.groupby('IIiii')\n",
    "\n",
    "# 根据time lat lon RR 对数据进行转换\n",
    "\n"
   ]
  },
  {
   "cell_type": "markdown",
   "metadata": {},
   "source": [
    "# Class版的数据处理"
   ]
  },
  {
   "cell_type": "code",
   "execution_count": 34,
   "metadata": {},
   "outputs": [
    {
     "name": "stdout",
     "output_type": "stream",
     "text": [
      "733\n",
      "733\n",
      "能见度 [58559, 58568, 58652, 58655, 58660, 58661, 58662, 58663, 58664, 58665, 58666, 58667, 58668, 58669, 'K8106', 'K8111', 'K8114', 'K8116', 'K8117', 'K8125', 'K8126', 'K8201', 'K8205', 'K8210', 'K8217', 'K8226', 'K8303', 'K8315', 'K8316', 'K8318', 'K8320', 'K8322', 'K8407', 'K8409', 'K8413', 'K8425', 'K8427', 'K8447', 'K8466', 'K8502', 'K8504', 'K8510', 'K8513', 'K8522', 'K8528', 'K8530', 'K8611', 'K8627', 'K8629', 'K8650', 'K8655', 'K8674', 'K8675', 'K8718', 'K8719', 'K8802', 'K8803', 'K8807', 'K8810', 'K8813', 'K8820', 'K8821', 'K8829', 'K8841', 'K8843', 'K8860', 'K8862', 'K8872', 'K8873', 'K8929', 'K8951']\n",
      "CPU times: user 2 µs, sys: 1e+03 ns, total: 3 µs\n",
      "Wall time: 3.81 µs\n"
     ]
    }
   ],
   "source": [
    "import pandas as pd\n",
    "import numpy as np\n",
    "from math import isnan\n",
    "sql = 'test'  \n",
    "\n",
    "class sql_data:\n",
    "    def __init__(self, sql):\n",
    "        self.sql = sql# 传进来的参数\n",
    "        station_Mws = pd.read_csv(\"Mws2022.csv\")\n",
    "        station_Aws = pd.read_csv(\"Aws2022.csv\")\n",
    "        self.station_all = pd.concat([station_Aws,station_Mws])\n",
    "        # 数据\n",
    "        self.grouped_county = self.station_all.groupby('county')\n",
    "        self.grouped_IIiii = self.station_all.groupby('IIiii')\n",
    "        self.timecounts = len(self.grouped_IIiii.get_group(58660)['tTime'])\n",
    "        # 测试数据\n",
    "        print(self.timecounts)\n",
    "    def comput_county(self):\n",
    "        '计算面最大雨强、累计降水、最高、最低气温'\n",
    "        self.station_county_comput = []\n",
    "        for i in self.grouped_county.size().index:  \n",
    "            data= self.grouped_county.get_group(i)\n",
    "            data['VV'].replace(-9999,np.nan,inplace=True)\n",
    "            data['RR'].replace(-9999,np.nan,inplace=True)\n",
    "            data['Tn'].replace(-9999,np.nan,inplace=True)\n",
    "            data['Tx'].replace(-9999,np.nan,inplace=True)\n",
    "            dic = {}\n",
    "            dic['county'] = str(i)\n",
    "            dic['RR'] = data['RR'].mean()*self.timecounts/10.0\n",
    "            dic['RMax'] = data['RR'].max()/10.0\n",
    "            dic['Tx'] = data['Tx'].max()/10.0\n",
    "            dic['Tn'] = data['Tn'].min()/10.0 \n",
    "#             print(dic)\n",
    "            self.station_county_comput.append(dic)\n",
    "        tmp_max_County = []\n",
    "        tmp_min_County = []\n",
    "        RR_County = []\n",
    "        for i in self.station_county_comput:\n",
    "            tmp_max_County.append({\"name\":i['county'],\"value\":i['Tx']})\n",
    "            tmp_min_County.append({\"name\":i['county'],\"value\":i['Tn']})\n",
    "            RR_County.append({\"name\":i['county'],\"value\":i['RR']})\n",
    "        return RR_County,tmp_max_County,tmp_min_County\n",
    "\n",
    "    def comput_IIiii(self):\n",
    "        self.station_dot_comput = {} \n",
    "        lat = []\n",
    "        lon = []\n",
    "        tx = []\n",
    "        tn = []\n",
    "        rr = [] \n",
    "        rx = []\n",
    "        county = []\n",
    "        name = []\n",
    "        vv = []\n",
    "        town = []\n",
    "        vv_min = \" \"#{\"name\":[],\"value\":0.0}\n",
    "        vv_value = 1000.0\n",
    "        station_RR_small = 0.0\n",
    "        station_RR_mid = 0.0\n",
    "        station_RR_big = 0.0\n",
    "        station_RR_huge = 0.0\n",
    "        station_RR_bighuge = 0.0\n",
    "        station_RR_more = 0.0\n",
    "        station_VV_small = 0.0\n",
    "        station_VV_mid = 0.0\n",
    "        station_VV_big = 0.0\n",
    "        station_VV_huge = 0.0\n",
    "        station_VV_more = 0.0\n",
    "        station_vv = []\n",
    "        VV_scatter_list = []\n",
    "        # 指标站数据\n",
    "        nation_station = ['58660','58666','K8505','K8206','58665','58559','58655','K8271','58662','58653']\n",
    "        temp_scatter_list = ['58559','K8705','K8706','58652','K8903','58568','K8818','58662','K8821','58660',\n",
    "                             '58653','K8609','K8505','58667','58664','K8413','58655','K8282','K8217','K8201','K8301','58665']\n",
    "        for i in self.grouped_IIiii.size().index:\n",
    "            data= self.grouped_IIiii.get_group(i)\n",
    "            #print(data)\n",
    "            data['VV'].replace(-9999,np.nan,inplace=True)\n",
    "            data['RR'].replace(-9999,np.nan,inplace=True)\n",
    "            data['Tn'].replace(-9999,np.nan,inplace=True)\n",
    "            data['Tx'].replace(-9999,np.nan,inplace=True)\n",
    "            dic = {}\n",
    "            dic['IIiii'] = data['IIiii'].iloc[0]\n",
    "            dic['tTime'] = data['tTime'].tolist()\n",
    "            dic['StationName'] = data['StationName'].iloc[0]\n",
    "            dic['county'] = data['county'].iloc[0]\n",
    "            dic['lat'] = data['lat'].iloc[0]\n",
    "            dic['lon'] = data['lon'].iloc[0]\n",
    "            dic['Town'] = data['Town'].iloc[0]\n",
    "            dic['fFy'] = data['fFy'].max()           \n",
    "            dic['dFy'] = data[data['fFy']== data['fFy'].max()]['dFy'].iloc[0]\n",
    "            dic['T'] = data['T'].tolist()\n",
    "            dic['VList'] = data['VV'].tolist()\n",
    "            dic['Tx'] = data['Tx'].max()/10.0\n",
    "                        \n",
    "            dic['Tn'] = data['Tn'].min()/10.0\n",
    "            if not isnan(data['VV'].min()):\n",
    "                #统计能见度自动站名称\n",
    "                station_vv.append(data['IIiii'].iloc[0])\n",
    "                if data['VV'].min() < vv_value:\n",
    "#                     print(data['IIiii'].iloc[0])\n",
    "                    vv_min=  str(data['IIiii'].iloc[0])\n",
    "                    vv_value = data['VV'].min()\n",
    "            dic['VV'] = data['VV'].min()\n",
    "            dic['RR'] = data['RR'].sum()\n",
    "            dic['RMax'] = data['RR'].max()\n",
    "            # 降水分级别\n",
    "            if not isnan(data['RR'].sum()):\n",
    "                value_rsum = data['RR'].sum()\n",
    "                if value_rsum >=0 and value_rsum <10:\n",
    "                    station_RR_small =  station_RR_small +1   \n",
    "                elif value_rsum >=10 and value_rsum <25:\n",
    "                    station_RR_mid =  station_RR_mid+1   \n",
    "                elif value_rsum >=25 and value_rsum <50:\n",
    "                    station_RR_big =  station_RR_big +1   \n",
    "                elif value_rsum >=50 and value_rsum <100:\n",
    "                    station_RR_huge =  station_RR_huge+1   \n",
    "                elif value_rsum >=100 and value_rsum <250:\n",
    "                    station_RR_more =  station_RR_bighuge+1 \n",
    "                else:\n",
    "                    station_RR_more =  station_RR_more+1\n",
    "            # 能见度分级别  \n",
    "            if not isnan(data['VV'].min()):\n",
    "                VV_scatter_list.append(data['IIiii'].iloc[0])\n",
    "                value_VV = data['VV'].min()\n",
    "#                 print(value_VV)\n",
    "                if value_VV >=0 and value_VV <50:\n",
    "                    station_VV_small =  station_VV_small +1   \n",
    "                elif value_VV >=50 and value_VV <200:\n",
    "                    station_VV_mid =  station_VV_mid+1   \n",
    "                elif value_VV >=200 and value_VV <500:\n",
    "                    station_VV_big =  station_VV_big +1   \n",
    "                elif value_VV >=500 and value_VV <1000:\n",
    "                    station_VV_huge =  station_VV_huge+1   \n",
    "                else: \n",
    "                    station_VV_more =  station_VV_more+1 \n",
    "\n",
    "            lat.append(data['lat'].iloc[0])\n",
    "            town.append(data['Town'].iloc[0])\n",
    "            lon.append(data['lon'].iloc[0])\n",
    "            county.append(data['county'].iloc[0])\n",
    "            name.append(data['IIiii'].iloc[0])\n",
    "            tx.append(data['Tx'].max()/10.0)\n",
    "            tn.append(data['Tn'].max()/10.0)\n",
    "            rr.append(data['RR'].sum()/10.0)\n",
    "            rx.append(data['RR'].max()/10.0)\n",
    "#             print(dic)\n",
    "            self.station_dot_comput[str(i)] = dic \n",
    "#         print(lat)\n",
    "        #排序数据\n",
    "        data_rx =  pd.DataFrame()\n",
    "        data_rx['name'] = name \n",
    "        data_rx['county'] = county\n",
    "        data_rx['town'] = town\n",
    "        data_rx['rx'] = rx \n",
    "#         print(data_rx.sort_values(by =['rx'],ascending = [False]))\n",
    "        # 按照累计降水进行排序\n",
    "        data_rsum =  pd.DataFrame()\n",
    "        data_rsum['name'] = name \n",
    "        data_rsum['county'] = county\n",
    "        data_rsum['town'] = town\n",
    "        data_rsum['rsum'] = rr \n",
    "        data_rsum['index']=data_rsum['rsum'].rank(ascending=0,method='dense')\n",
    "        data_rr_sum = data_rsum.sort_values(by =['rsum'],ascending = [False])\n",
    "#         data_rsum['index'] = [a for i in ]\n",
    "#         print(data_rx.sort_values(by =['rx'],ascending = [False]))\n",
    "        # 最大值对应的站点序列\n",
    "        data_vv = vv_min\n",
    "        #print(\"最低能见度\",data_vv,vv_min)\n",
    "        data_vvmin =  pd.DataFrame()\n",
    "        data_vvmin['tTime']= self.station_dot_comput[data_vv]['tTime']\n",
    "        data_vvmin['VV']= self.station_dot_comput[data_vv]['VList']\n",
    "        #print(\"data:\",data_vvmin)\n",
    "        # 降水分级\n",
    "        RR_station_rank = [\n",
    "            { \"value\": station_RR_small, \"name\": '小雨' },\n",
    "            { \"value\": station_RR_mid, \"name\": '中雨' },\n",
    "            { \"value\": station_RR_big, \"name\": '大雨' },\n",
    "            { \"value\": station_RR_huge, \"name\": '暴雨' },\n",
    "            { \"value\": station_RR_bighuge, \"name\": '大暴雨' },\n",
    "            { \"value\": station_RR_more, \"name\": '特大暴雨' }\n",
    "        ]\n",
    "        tmp_station_bar = []\n",
    "        tmp_station_bar.append(['product', '最高气温','最低气温'])\n",
    "        RR_station_bar = []\n",
    "        RR_station_bar.append(['product', '累计降水','最大雨强'])\n",
    "        # 计算指标站nation_station的要素值\n",
    "        for i in nation_station:\n",
    "            tmp_station_bar.append([self.station_dot_comput[i]['StationName'], self.station_dot_comput[i]['Tx'],self.station_dot_comput[i]['Tn']])\n",
    "            RR_station_bar.append([self.station_dot_comput[i]['StationName'], self.station_dot_comput[i]['RR'],self.station_dot_comput[i]['RMax']])\n",
    "  \n",
    "        # 返回站点气温数据\n",
    "        tmp_min_scatter = []\n",
    "        tmp_max_scatter = []\n",
    "        for i in temp_scatter_list:\n",
    "            dic_temp_max = {\"value\":[],\"url\":\"\",}\n",
    "            dic_temp_max['value'].append(self.station_dot_comput[i]['lon'])\n",
    "            dic_temp_max['value'].append(self.station_dot_comput[i]['lat'])\n",
    "            dic_temp_max['value'].append(self.station_dot_comput[i]['Tx'])\n",
    "            dic_temp_max['url'] =\"station/\"+str(self.station_dot_comput[i]['IIiii'])\n",
    "            dic_temp_max['name'] = str(self.station_dot_comput[i]['StationName'])\n",
    "            dic_temp_min = {\"value\":[],\"url\":\"\"}\n",
    "            dic_temp_min['value'].append(self.station_dot_comput[i]['lon'])\n",
    "            dic_temp_min['value'].append(self.station_dot_comput[i]['lat'])\n",
    "            dic_temp_min['value'].append(self.station_dot_comput[i]['Tn'])\n",
    "            dic_temp_min['url'] =\"station/\"+str(self.station_dot_comput[i]['IIiii'])\n",
    "            dic_temp_min['name'] = str(self.station_dot_comput[i]['StationName'])\n",
    "            tmp_max_scatter.append(dic_temp_max)\n",
    "            tmp_min_scatter.append(dic_temp_min)\n",
    "        print(\"能见度\",VV_scatter_list)\n",
    "        # 返回站点能见度数据\n",
    "        VV_min_scatter = []\n",
    "        for i in VV_scatter_list:\n",
    "            dic_VV_min = {\"value\":[],\"url\":\"\"}\n",
    "            dic_VV_min['value'].append(self.station_dot_comput[str(i)]['lon'])\n",
    "            dic_VV_min['value'].append(self.station_dot_comput[str(i)]['lat'])\n",
    "            dic_VV_min['value'].append(self.station_dot_comput[str(i)]['VV'])\n",
    "            dic_VV_min['url'] =\"station/\"+str(self.station_dot_comput[str(i)]['IIiii'])\n",
    "            dic_VV_min['name'] = str(self.station_dot_comput[str(i)]['StationName'])\n",
    "            VV_min_scatter.append(dic_VV_min) \n",
    "        # 能见度分级\n",
    "        VV_station_rank = [\n",
    "            { \"value\": station_VV_small, \"name\": '强浓雾' },\n",
    "            { \"value\": station_VV_mid, \"name\": '浓雾' },\n",
    "            { \"value\": station_VV_big, \"name\": '大雾' },\n",
    "            { \"value\": station_VV_huge, \"name\": '雾' },\n",
    "            { \"value\": station_VV_more, \"name\": '轻雾' }\n",
    "        ]\n",
    "        return data_rr_sum,RR_station_rank,RR_station_bar,tmp_station_bar,tmp_min_scatter,tmp_max_scatter,data_vvmin,VV_min_scatter,VV_station_rank\n",
    "        # 计算scatter\n",
    "#         return lat,lon,tx,tn,rr,rx,vv,data_rx.sort_values(by =['rx'],ascending = [False]),data_rsum,data_vvmin\n",
    "    \n",
    "\n",
    "    \n",
    "\n",
    "RR_County,tmp_max_County,tmp_min_County =  sql_data(sql).comput_county()   \n",
    "RR_sum,RR_station_rank ,RR_station_bar,tmp_station_bar,tmp_min_scatter,tmp_max_scatter,data_vvmin,VV_min_scatter,VV_station_rank = sql_data(sql).comput_IIiii()\n",
    "\n",
    "# a =  sql_data(sql).station_all\n",
    "%time"
   ]
  },
  {
   "cell_type": "markdown",
   "metadata": {},
   "source": [
    "# 降水的分类\n",
    "\n",
    "24小时内降雨量﹤0.1毫米之间为微量降雨（零星小雨）；\n",
    "\n",
    "12小时内降雨量0.1～4.9毫米或24小时内降雨量0.1～9.9毫米之间为小雨；\n",
    "\n",
    "12小时内降雨量5.0～14.9毫米或24小时内降雨量在10～24.9毫米之间为中雨；\n",
    "\n",
    "12小时内降雨量15.0.1～29.9毫米或24小时内降雨量在25.0～49.9毫米之间为大雨；\n",
    "\n",
    "12小时内降雨量30.0～69.9毫米或24小时内降雨量在50.0～99.9毫米之间为暴雨；\n",
    "\n",
    "12小时内降雨量70.0～139.9毫米或24小时内降雨量在100.0～249.9毫米之间为大暴雨；\n",
    "\n",
    "12小时内降雨量≥140.0毫米或24小时内降雨量≥250.0毫米之间为特大暴雨。\n",
    "\n",
    "# 浓雾的分类\n",
    "\n",
    "大雾红色预警发布的标准是，预计未来24小时内有3个及以上省（自治区、直辖市）的部分地区可能出现能见度不足200米的强浓雾，且有成片的（覆盖5个及以上相邻的国家基本气象站或国家基准气候站）能见度小于50米的雾；或者已经出现并可能持续。\n",
    "\n",
    "大雾橙色预警发布的标准是，预计24小时内3个及以上省（自治区、直辖市）可能出现能见度小于500米的雾，且有成片的（覆盖5个及以上相邻的国家基本气象站或国家基准气候站）能见度小于50米的雾；或者已经出现并可能持续。\n",
    "\n",
    "大雾黄色预警发布的标准是，预计24小时内3个及以上省（自治区、直辖市）可能出现能见度小于1000米的雾，且有成片的（覆盖5个及以上相邻的国家基本气象站或国家基准气候站）能见度小于200米的雾；或者已经出现并可能持续。"
   ]
  },
  {
   "cell_type": "code",
   "execution_count": 12,
   "metadata": {},
   "outputs": [
    {
     "data": {
      "text/plain": [
       "[{'value': 37.0, 'name': '小雨'},\n",
       " {'value': 0.0, 'name': '中雨'},\n",
       " {'value': 0.0, 'name': '大雨'},\n",
       " {'value': 0.0, 'name': '暴雨'},\n",
       " {'value': 0.0, 'name': '大暴雨'},\n",
       " {'value': 450.0, 'name': '特大暴雨'}]"
      ]
     },
     "execution_count": 12,
     "metadata": {},
     "output_type": "execute_result"
    }
   ],
   "source": [
    "RR_station_rank"
   ]
  },
  {
   "cell_type": "code",
   "execution_count": 16,
   "metadata": {},
   "outputs": [
    {
     "data": {
      "text/plain": [
       "[['product', '累计降水', '最大雨强'],\n",
       " ['临海', 881, 56],\n",
       " ['大陈', 1017, 76],\n",
       " ['玉城', 1136, 85],\n",
       " ['富山', 1562, 66],\n",
       " ['洪家', 876, 67],\n",
       " ['天台', 1087, 43],\n",
       " ['黄岩站', 259, 29],\n",
       " ['外金', 1290, 63],\n",
       " ['牛山', 880, 45],\n",
       " ['括苍山', 754, 37]]"
      ]
     },
     "execution_count": 16,
     "metadata": {},
     "output_type": "execute_result"
    }
   ],
   "source": [
    "RR_station_bar"
   ]
  },
  {
   "cell_type": "code",
   "execution_count": 17,
   "metadata": {},
   "outputs": [
    {
     "data": {
      "text/plain": [
       "[['product', '最高气温', '最低气温'],\n",
       " ['临海', 17.6, -2.4],\n",
       " ['大陈', 12.3, 3.7],\n",
       " ['玉城', 16.7, 2.0],\n",
       " ['富山', 14.8, -4.0],\n",
       " ['洪家', 16.1, 1.2],\n",
       " ['天台', 17.1, -3.3],\n",
       " ['黄岩站', 10.1, -1.4],\n",
       " ['外金', 15.6, -4.4],\n",
       " ['牛山', 14.0, 1.4],\n",
       " ['括苍山', 9.4, -8.6]]"
      ]
     },
     "execution_count": 17,
     "metadata": {},
     "output_type": "execute_result"
    }
   ],
   "source": [
    "tmp_station_bar"
   ]
  },
  {
   "cell_type": "code",
   "execution_count": 35,
   "metadata": {},
   "outputs": [
    {
     "data": {
      "text/plain": [
       "[{'value': 0.0, 'name': '强浓雾'},\n",
       " {'value': 18.0, 'name': '浓雾'},\n",
       " {'value': 15.0, 'name': '大雾'},\n",
       " {'value': 15.0, 'name': '雾'},\n",
       " {'value': 23.0, 'name': '轻雾'}]"
      ]
     },
     "execution_count": 35,
     "metadata": {},
     "output_type": "execute_result"
    }
   ],
   "source": [
    "VV_station_rank"
   ]
  },
  {
   "cell_type": "markdown",
   "metadata": {},
   "source": [
    "# 逐行遍历数据"
   ]
  },
  {
   "cell_type": "code",
   "execution_count": null,
   "metadata": {},
   "outputs": [],
   "source": [
    "for row in RR_sum.itertuples():\n",
    "    index = int(getattr(row, 'index'))\n",
    "    rsum = getattr(row, 'rsum')\n",
    "    print(index, rsum) # 输出每一行"
   ]
  },
  {
   "cell_type": "code",
   "execution_count": null,
   "metadata": {},
   "outputs": [],
   "source": [
    "      name county  town   rsum\n",
    "438  K8914    仙居县   上张乡  195.5\n",
    "361  K8785    天台县   南屏乡  166.4\n",
    "71   K8230    黄岩区   平田乡  156.8\n",
    "50   K8206    黄岩区   富山乡  156.2\n",
    "377  K8812    三门县  海润街道  155.5\n",
    "..     ...    ...   ...    ...\n",
    "315  K8718    天台县   白鹤镇    0.0\n",
    "328  K8734    天台县   街头镇    0.0\n",
    "329  K8735    天台县   龙溪乡    0.0\n",
    "330  K8736    天台县   白鹤镇    0.0\n",
    "247  K8635    临海市  白水洋镇    0.0"
   ]
  }
 ],
 "metadata": {
  "kernelspec": {
   "display_name": "Python 3",
   "language": "python",
   "name": "python3"
  },
  "language_info": {
   "codemirror_mode": {
    "name": "ipython",
    "version": 3
   },
   "file_extension": ".py",
   "mimetype": "text/x-python",
   "name": "python",
   "nbconvert_exporter": "python",
   "pygments_lexer": "ipython3",
   "version": "3.7.6"
  }
 },
 "nbformat": 4,
 "nbformat_minor": 4
}
