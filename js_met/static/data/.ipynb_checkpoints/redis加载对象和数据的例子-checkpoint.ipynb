{
 "cells": [
  {
   "cell_type": "markdown",
   "id": "c0eb5797",
   "metadata": {},
   "source": [
    "# redis保存和加载redis对象的例子"
   ]
  },
  {
   "cell_type": "code",
   "execution_count": null,
   "id": "7496e0e0",
   "metadata": {},
   "outputs": [],
   "source": [
    "import pickle\n",
    "import redis\n",
    "\n",
    "# 具体的对象\n",
    "class SomeCustomObject(object):\n",
    "    def run(self):\n",
    "        print(\"this is some custom obj\")\n",
    "\n",
    "# 链接redis\n",
    "rs = redis.Redis(\n",
    "    host='192.168.192.5', \n",
    "    port=6379,\n",
    "    password='lq9394'\n",
    ")\n",
    "\n",
    "# 创建实例对象并存储数据\n",
    "obj = SomeCustomObject()\n",
    "data = {\n",
    "    \"time\":\"2023\",\n",
    "    \"data\":obj\n",
    "}\n",
    "rs.set('c', pickle.dumps(data))\n",
    "\n",
    "# 将数据加载为python对象，并运行函数\n",
    "ob = pickle.loads(rs.get('c'))\n",
    "ob['data'].run()"
   ]
  }
 ],
 "metadata": {
  "kernelspec": {
   "display_name": "Python 3 (ipykernel)",
   "language": "python",
   "name": "python3"
  },
  "language_info": {
   "codemirror_mode": {
    "name": "ipython",
    "version": 3
   },
   "file_extension": ".py",
   "mimetype": "text/x-python",
   "name": "python",
   "nbconvert_exporter": "python",
   "pygments_lexer": "ipython3",
   "version": "3.7.15"
  }
 },
 "nbformat": 4,
 "nbformat_minor": 5
}
