{
 "cells": [
  {
   "cell_type": "markdown",
   "id": "866d6521",
   "metadata": {},
   "source": [
    "# 台州气象台 - 风驰系统使用说明"
   ]
  },
  {
   "cell_type": "markdown",
   "id": "b1400315",
   "metadata": {},
   "source": [
    "![](main.png)"
   ]
  },
  {
   "cell_type": "markdown",
   "id": "6336bf1a",
   "metadata": {},
   "source": [
    "## 1.密码账号"
   ]
  },
  {
   "cell_type": "markdown",
   "id": "1d658cfd",
   "metadata": {},
   "source": []
  }
 ],
 "metadata": {
  "kernelspec": {
   "display_name": "Python 3 (ipykernel)",
   "language": "python",
   "name": "python3"
  },
  "language_info": {
   "codemirror_mode": {
    "name": "ipython",
    "version": 3
   },
   "file_extension": ".py",
   "mimetype": "text/x-python",
   "name": "python",
   "nbconvert_exporter": "python",
   "pygments_lexer": "ipython3",
   "version": "3.7.15"
  }
 },
 "nbformat": 4,
 "nbformat_minor": 5
}
